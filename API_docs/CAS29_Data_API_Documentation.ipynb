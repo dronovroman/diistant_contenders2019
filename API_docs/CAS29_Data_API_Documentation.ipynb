{
 "cells": [
  {
   "cell_type": "markdown",
   "metadata": {},
   "source": [
    "# Data APIs for CAS29\n",
    "\n",
    "For our CAS29 application prototype, we are currently using APIs from the ACT government to access datasets related to traffic and road safety. Additionally, we use APIs to extract the most recent weather updates from the Bureau of Meteorology (BOM). CAS29 can also be easily adapted to use APIs from the QLD government to access datasets related to traffic and road safety in QLD. \n",
    "\n",
    "The purpose of this document is to demonstrate the use case for the data sources listed below in the context of CAS29:\n",
    "\n",
    "### ACT Data\n",
    "\n",
    "There are two key historical datasets that we use, both updated daily and going as far back as 2012:\n",
    "1. Pedestrian Crashes: https://www.data.act.gov.au/Justice-Safety-and-Emergency/Pedestrian-Crashes/emq2-8bc4\n",
    "2. Cyclist Crashes: https://www.data.act.gov.au/Justice-Safety-and-Emergency/Cyclist-Crashes/n2kg-qkwj\n",
    "\n",
    "They include geographic co-ordinates of each crash as well as some other details about the severity of the crash, road conditions, time of day etc.\n",
    "\n",
    "### QLD Data\n",
    "\n",
    "In QLD, there two key data sources that can be incorporated into CAS29:\n",
    "1. Road Crash Locations: https://www.data.qld.gov.au/dataset/crash-data-from-queensland-roads\n",
    "  * Similar to the ACT datasets, this includes the geo-coordinates of the crash sites\n",
    "  * The data goes back to 2001; however, it only goes up to end-of-2018\n",
    "  * It is relatively rich in detail\n",
    "  * Notably, it captures all accident types (including pedestrian and cyclist) in one dataset\n",
    "    * However, crashes that results in property-damage only are not recorded from 2011 onwards\n",
    "<br><br>  \n",
    "2. QLDTraffic GeoJSON API: https://www.data.qld.gov.au/dataset/131940-traffic-and-travel-information-geojson-api\n",
    "  * This is a real-time information service for the state of QLD\n",
    "  * It covers the following:\n",
    "    * Live image feeds from webcams throughout the state\n",
    "    * Live updates of high-risk crash zones (including geo-coordinates of these zones)\n",
    "    * Live event updates (e.g. construction) (including geo-coordinates of affected areas)\n",
    "\n",
    "### BOM Data\n",
    "\n",
    "We can extract latest available data from relevant weather stations for the cyclist to use. Lists of weather stations are available from the links below:\n",
    "* ACT: http://www.bom.gov.au/act/observations/canberra.shtml\n",
    "* QLD: http://www.bom.gov.au/qld/observations/qldall.shtml\n",
    "\n",
    "Currently, CAS29 only links to the main Canberra weather station, with plans to allow cyclists to access data from their nearest station in future versions.\n",
    "\n",
    "***\n",
    "\n",
    "<br><br>\n",
    "We will use Python to explore each of the above data sources and explain how they are currently used or how they will be used in the future."
   ]
  },
  {
   "cell_type": "code",
   "execution_count": 1,
   "metadata": {},
   "outputs": [],
   "source": [
    "#Import Python packages\n",
    "import pandas as pd\n",
    "import numpy as np\n",
    "import requests\n",
    "import time\n",
    "import matplotlib.pyplot as plt\n",
    "import requests\n",
    "import geopandas as gpd \n",
    "from shapely.geometry import Polygon\n",
    "\n",
    "def get_data(url): \n",
    "    \"\"\"\n",
    "    Returns JSON responses from URLs\n",
    "    \"\"\"\n",
    "    return requests.get(url).json()\n",
    "\n",
    "def timeconv(x):\n",
    "    \"\"\"\n",
    "    Converts time form %H:%M format to time in min after midnight\n",
    "    \"\"\"\n",
    "    tmo = time.strptime (x, \"%H:%M\") \n",
    "    return tmo.tm_hour*60+tmo.tm_min"
   ]
  },
  {
   "cell_type": "markdown",
   "metadata": {},
   "source": [
    "## ACT Historical Crash Data\n",
    "***\n",
    "### Pedestrian Crashes\n",
    "The JSON API output data is a list of records, each structured as a dictionary:"
   ]
  },
  {
   "cell_type": "code",
   "execution_count": 2,
   "metadata": {},
   "outputs": [
    {
     "data": {
      "text/plain": [
       "{'crash_id': '1152106',\n",
       " 'crash_date': '2017-01-23T00:00:00.000',\n",
       " 'crash_time': '16:00',\n",
       " 'severity': 'Injury',\n",
       " 'crash_type': 'Struck pedestrian (On Road)',\n",
       " 'pedestrians': '1',\n",
       " 'pedestrian_casualties': '1',\n",
       " 'reported_location': 'RATCLIFFE CRESCENT (CHALLINOR -> CHALLINOR)',\n",
       " 'location': {'latitude': '-35.23191', 'longitude': '149.054575'}}"
      ]
     },
     "execution_count": 2,
     "metadata": {},
     "output_type": "execute_result"
    }
   ],
   "source": [
    "url = 'https://www.data.act.gov.au/resource/emq2-8bc4.json'\n",
    "act_pc_js = get_data(url)\n",
    "act_pc_js[0] # first record"
   ]
  },
  {
   "cell_type": "markdown",
   "metadata": {},
   "source": [
    "These records can be conveniently organised into a DataFrame that CAS29 can access to deliver relevant information to the cyclist:"
   ]
  },
  {
   "cell_type": "code",
   "execution_count": 3,
   "metadata": {},
   "outputs": [
    {
     "data": {
      "text/html": [
       "<div>\n",
       "<style scoped>\n",
       "    .dataframe tbody tr th:only-of-type {\n",
       "        vertical-align: middle;\n",
       "    }\n",
       "\n",
       "    .dataframe tbody tr th {\n",
       "        vertical-align: top;\n",
       "    }\n",
       "\n",
       "    .dataframe thead th {\n",
       "        text-align: right;\n",
       "    }\n",
       "</style>\n",
       "<table border=\"1\" class=\"dataframe\">\n",
       "  <thead>\n",
       "    <tr style=\"text-align: right;\">\n",
       "      <th></th>\n",
       "      <th>crash_id</th>\n",
       "      <th>crash_date</th>\n",
       "      <th>crash_time</th>\n",
       "      <th>severity</th>\n",
       "      <th>crash_type</th>\n",
       "      <th>pedestrians</th>\n",
       "      <th>pedestrian_casualties</th>\n",
       "      <th>reported_location</th>\n",
       "      <th>location</th>\n",
       "    </tr>\n",
       "  </thead>\n",
       "  <tbody>\n",
       "    <tr>\n",
       "      <th>185</th>\n",
       "      <td>1113005</td>\n",
       "      <td>2015-06-04T00:00:00.000</td>\n",
       "      <td>21:20</td>\n",
       "      <td>Injury</td>\n",
       "      <td>Struck pedestrian (On Road)</td>\n",
       "      <td>1</td>\n",
       "      <td>1</td>\n",
       "      <td>LAYCOCK PLACE (PICKWORTH -&gt; LAYCOCK)</td>\n",
       "      <td>{'latitude': '-35.222097', 'longitude': '149.0...</td>\n",
       "    </tr>\n",
       "    <tr>\n",
       "      <th>446</th>\n",
       "      <td>1193810</td>\n",
       "      <td>2018-10-04T00:00:00.000</td>\n",
       "      <td>12:46</td>\n",
       "      <td>Property Damage Only</td>\n",
       "      <td>Struck pedestrian (On Road)</td>\n",
       "      <td>1</td>\n",
       "      <td>0</td>\n",
       "      <td>SCOTTS CROSSING (NARELLAN -&gt; BUNDA / GAREMA)</td>\n",
       "      <td>{'latitude': '-35.278001', 'longitude': '149.1...</td>\n",
       "    </tr>\n",
       "    <tr>\n",
       "      <th>323</th>\n",
       "      <td>1172898</td>\n",
       "      <td>2017-11-09T00:00:00.000</td>\n",
       "      <td>07:35</td>\n",
       "      <td>Injury</td>\n",
       "      <td>Struck pedestrian (On Road)</td>\n",
       "      <td>1</td>\n",
       "      <td>1</td>\n",
       "      <td>SULWOOD DRIVE (LIVINGSTON -&gt; MANNHEIM)</td>\n",
       "      <td>{'latitude': '-35.379904', 'longitude': '149.0...</td>\n",
       "    </tr>\n",
       "  </tbody>\n",
       "</table>\n",
       "</div>"
      ],
      "text/plain": [
       "    crash_id               crash_date crash_time              severity  \\\n",
       "185  1113005  2015-06-04T00:00:00.000      21:20                Injury   \n",
       "446  1193810  2018-10-04T00:00:00.000      12:46  Property Damage Only   \n",
       "323  1172898  2017-11-09T00:00:00.000      07:35                Injury   \n",
       "\n",
       "                      crash_type pedestrians pedestrian_casualties  \\\n",
       "185  Struck pedestrian (On Road)           1                     1   \n",
       "446  Struck pedestrian (On Road)           1                     0   \n",
       "323  Struck pedestrian (On Road)           1                     1   \n",
       "\n",
       "                                reported_location  \\\n",
       "185          LAYCOCK PLACE (PICKWORTH -> LAYCOCK)   \n",
       "446  SCOTTS CROSSING (NARELLAN -> BUNDA / GAREMA)   \n",
       "323        SULWOOD DRIVE (LIVINGSTON -> MANNHEIM)   \n",
       "\n",
       "                                              location  \n",
       "185  {'latitude': '-35.222097', 'longitude': '149.0...  \n",
       "446  {'latitude': '-35.278001', 'longitude': '149.1...  \n",
       "323  {'latitude': '-35.379904', 'longitude': '149.0...  "
      ]
     },
     "execution_count": 3,
     "metadata": {},
     "output_type": "execute_result"
    }
   ],
   "source": [
    "act_pc = pd.DataFrame(act_pc_js)\n",
    "act_pc.sample(3)"
   ]
  },
  {
   "cell_type": "markdown",
   "metadata": {},
   "source": [
    "We just need to conduct a couple of data cleaning steps so that we have the *latitude* and *longitude* in separate variables, which allows the CAS29 to pinpoint the location of previous crashes to identify high-risk areas:"
   ]
  },
  {
   "cell_type": "code",
   "execution_count": 4,
   "metadata": {},
   "outputs": [
    {
     "data": {
      "text/html": [
       "<div>\n",
       "<style scoped>\n",
       "    .dataframe tbody tr th:only-of-type {\n",
       "        vertical-align: middle;\n",
       "    }\n",
       "\n",
       "    .dataframe tbody tr th {\n",
       "        vertical-align: top;\n",
       "    }\n",
       "\n",
       "    .dataframe thead th {\n",
       "        text-align: right;\n",
       "    }\n",
       "</style>\n",
       "<table border=\"1\" class=\"dataframe\">\n",
       "  <thead>\n",
       "    <tr style=\"text-align: right;\">\n",
       "      <th></th>\n",
       "      <th>crash_id</th>\n",
       "      <th>crash_date</th>\n",
       "      <th>crash_time</th>\n",
       "      <th>severity</th>\n",
       "      <th>crash_type</th>\n",
       "      <th>pedestrians</th>\n",
       "      <th>pedestrian_casualties</th>\n",
       "      <th>reported_location</th>\n",
       "      <th>lat</th>\n",
       "      <th>lon</th>\n",
       "      <th>time_in_min</th>\n",
       "    </tr>\n",
       "  </thead>\n",
       "  <tbody>\n",
       "    <tr>\n",
       "      <th>181</th>\n",
       "      <td>1135496</td>\n",
       "      <td>2016-05-20T00:00:00.000</td>\n",
       "      <td>17:00</td>\n",
       "      <td>Injury</td>\n",
       "      <td>Struck pedestrian (On Road)</td>\n",
       "      <td>1</td>\n",
       "      <td>1</td>\n",
       "      <td>HINDMARSH DRIVE (CALLAM -&gt; BOTANY)</td>\n",
       "      <td>-35.348944</td>\n",
       "      <td>149.088871</td>\n",
       "      <td>1020</td>\n",
       "    </tr>\n",
       "    <tr>\n",
       "      <th>274</th>\n",
       "      <td>1171421</td>\n",
       "      <td>2017-10-31T00:00:00.000</td>\n",
       "      <td>17:30</td>\n",
       "      <td>Injury</td>\n",
       "      <td>Struck pedestrian (Off Road)</td>\n",
       "      <td>1</td>\n",
       "      <td>1</td>\n",
       "      <td>GARTSIDE/MCBRYDE INTERSECTION</td>\n",
       "      <td>-35.405135</td>\n",
       "      <td>149.101108</td>\n",
       "      <td>1050</td>\n",
       "    </tr>\n",
       "    <tr>\n",
       "      <th>28</th>\n",
       "      <td>1048754</td>\n",
       "      <td>2012-11-07T00:00:00.000</td>\n",
       "      <td>09:50</td>\n",
       "      <td>Injury</td>\n",
       "      <td>Struck pedestrian (Off Road)</td>\n",
       "      <td>1</td>\n",
       "      <td>1</td>\n",
       "      <td>WOLLONGONG STREET (KEMBLA -&gt; GLADSTONE)</td>\n",
       "      <td>-35.325404</td>\n",
       "      <td>149.179456</td>\n",
       "      <td>590</td>\n",
       "    </tr>\n",
       "  </tbody>\n",
       "</table>\n",
       "</div>"
      ],
      "text/plain": [
       "    crash_id               crash_date crash_time severity  \\\n",
       "181  1135496  2016-05-20T00:00:00.000      17:00   Injury   \n",
       "274  1171421  2017-10-31T00:00:00.000      17:30   Injury   \n",
       "28   1048754  2012-11-07T00:00:00.000      09:50   Injury   \n",
       "\n",
       "                       crash_type pedestrians pedestrian_casualties  \\\n",
       "181   Struck pedestrian (On Road)           1                     1   \n",
       "274  Struck pedestrian (Off Road)           1                     1   \n",
       "28   Struck pedestrian (Off Road)           1                     1   \n",
       "\n",
       "                           reported_location        lat         lon  \\\n",
       "181       HINDMARSH DRIVE (CALLAM -> BOTANY) -35.348944  149.088871   \n",
       "274            GARTSIDE/MCBRYDE INTERSECTION -35.405135  149.101108   \n",
       "28   WOLLONGONG STREET (KEMBLA -> GLADSTONE) -35.325404  149.179456   \n",
       "\n",
       "     time_in_min  \n",
       "181         1020  \n",
       "274         1050  \n",
       "28           590  "
      ]
     },
     "execution_count": 4,
     "metadata": {},
     "output_type": "execute_result"
    }
   ],
   "source": [
    "act_pc['lat'] = act_pc['location'].apply(pd.Series)['latitude']\n",
    "act_pc['lon'] = act_pc['location'].apply(pd.Series)['longitude']\n",
    "act_pc['time_in_min'] = act_pc['crash_time'].apply(timeconv) # the CAS2029 app needs to see time in minutes\n",
    "act_pc = act_pc.astype({'lat':float, 'lon':float}).drop(columns=['location'])\n",
    "act_pc.sample(3)"
   ]
  },
  {
   "cell_type": "markdown",
   "metadata": {},
   "source": [
    "### Cyclist Crashes\n",
    "\n",
    "The API JSON output is very similar to the Pedestrian Crash data above, so we can process it in a similar fashion:"
   ]
  },
  {
   "cell_type": "code",
   "execution_count": 5,
   "metadata": {},
   "outputs": [
    {
     "data": {
      "text/plain": [
       "{'crash_id': '1195124',\n",
       " 'crash_date': '2018-10-31T08:42:00.000',\n",
       " 'crash_time': '08:42',\n",
       " 'severity': 'Injury',\n",
       " 'crash_type': 'Right angle collision',\n",
       " 'cyclists': '1',\n",
       " 'cyclist_casualties': '1',\n",
       " 'reported_location': 'KING GEORGE/LANGTON INTERSECTION',\n",
       " 'latitude': '-35.300163',\n",
       " 'longitude': '149.127264',\n",
       " 'location_1': {'latitude': '-35.300163', 'longitude': '149.127264'},\n",
       " ':@computed_region_h8vr_r9vc': '111'}"
      ]
     },
     "execution_count": 5,
     "metadata": {},
     "output_type": "execute_result"
    }
   ],
   "source": [
    "url = 'https://www.data.act.gov.au/resource/n2kg-qkwj.json'\n",
    "act_cc_js = get_data(url)\n",
    "act_cc_js[0]"
   ]
  },
  {
   "cell_type": "code",
   "execution_count": 6,
   "metadata": {},
   "outputs": [
    {
     "data": {
      "text/html": [
       "<div>\n",
       "<style scoped>\n",
       "    .dataframe tbody tr th:only-of-type {\n",
       "        vertical-align: middle;\n",
       "    }\n",
       "\n",
       "    .dataframe tbody tr th {\n",
       "        vertical-align: top;\n",
       "    }\n",
       "\n",
       "    .dataframe thead th {\n",
       "        text-align: right;\n",
       "    }\n",
       "</style>\n",
       "<table border=\"1\" class=\"dataframe\">\n",
       "  <thead>\n",
       "    <tr style=\"text-align: right;\">\n",
       "      <th></th>\n",
       "      <th>crash_id</th>\n",
       "      <th>crash_date</th>\n",
       "      <th>crash_time</th>\n",
       "      <th>severity</th>\n",
       "      <th>crash_type</th>\n",
       "      <th>cyclists</th>\n",
       "      <th>cyclist_casualties</th>\n",
       "      <th>reported_location</th>\n",
       "      <th>lat</th>\n",
       "      <th>lon</th>\n",
       "      <th>time_in_min</th>\n",
       "    </tr>\n",
       "  </thead>\n",
       "  <tbody>\n",
       "    <tr>\n",
       "      <th>58</th>\n",
       "      <td>1132851</td>\n",
       "      <td>2016-04-06T15:30:00.000</td>\n",
       "      <td>15:30</td>\n",
       "      <td>Injury</td>\n",
       "      <td>Same direction side swipe</td>\n",
       "      <td>1</td>\n",
       "      <td>1</td>\n",
       "      <td>LONDON CIRCUIT (EDINBURGH -&gt; COMMNLONDWRM)</td>\n",
       "      <td>-35.28382</td>\n",
       "      <td>149.126355</td>\n",
       "      <td>930</td>\n",
       "    </tr>\n",
       "    <tr>\n",
       "      <th>170</th>\n",
       "      <td>1102457</td>\n",
       "      <td>2015-01-18T09:15:00.000</td>\n",
       "      <td>09:15</td>\n",
       "      <td>Injury</td>\n",
       "      <td>Other -  Single Vehicle (On Road)</td>\n",
       "      <td>1</td>\n",
       "      <td>1</td>\n",
       "      <td>PARKES WAY (ANZAC -&gt; PARKEKINGERM RAMP)</td>\n",
       "      <td>-35.291323</td>\n",
       "      <td>149.141077</td>\n",
       "      <td>555</td>\n",
       "    </tr>\n",
       "    <tr>\n",
       "      <th>190</th>\n",
       "      <td>1067226</td>\n",
       "      <td>2013-07-29T18:25:00.000</td>\n",
       "      <td>18:25</td>\n",
       "      <td>Injury</td>\n",
       "      <td>Other - Vehicle to Vehicle</td>\n",
       "      <td>1</td>\n",
       "      <td>1</td>\n",
       "      <td>TENISON-WOODS CIRCUIT (BROOKER -&gt; TENISON-WOODS)</td>\n",
       "      <td>-35.425403</td>\n",
       "      <td>149.076807</td>\n",
       "      <td>1105</td>\n",
       "    </tr>\n",
       "  </tbody>\n",
       "</table>\n",
       "</div>"
      ],
      "text/plain": [
       "    crash_id               crash_date crash_time severity  \\\n",
       "58   1132851  2016-04-06T15:30:00.000      15:30   Injury   \n",
       "170  1102457  2015-01-18T09:15:00.000      09:15   Injury   \n",
       "190  1067226  2013-07-29T18:25:00.000      18:25   Injury   \n",
       "\n",
       "                            crash_type cyclists cyclist_casualties  \\\n",
       "58           Same direction side swipe        1                  1   \n",
       "170  Other -  Single Vehicle (On Road)        1                  1   \n",
       "190         Other - Vehicle to Vehicle        1                  1   \n",
       "\n",
       "                                    reported_location         lat         lon  \\\n",
       "58         LONDON CIRCUIT (EDINBURGH -> COMMNLONDWRM)   -35.28382  149.126355   \n",
       "170           PARKES WAY (ANZAC -> PARKEKINGERM RAMP)  -35.291323  149.141077   \n",
       "190  TENISON-WOODS CIRCUIT (BROOKER -> TENISON-WOODS)  -35.425403  149.076807   \n",
       "\n",
       "     time_in_min  \n",
       "58           930  \n",
       "170          555  \n",
       "190         1105  "
      ]
     },
     "execution_count": 6,
     "metadata": {},
     "output_type": "execute_result"
    }
   ],
   "source": [
    "act_cc = pd.DataFrame(act_cc_js).drop(columns=['location_1', ':@computed_region_h8vr_r9vc'])\n",
    "act_cc = act_cc.rename(columns={'latitude':'lat', 'longitude':'lon'})\n",
    "act_cc['time_in_min'] = act_cc['crash_time'].apply(timeconv) # the CAS2029 app needs to see time in minutes\n",
    "act_cc.sample(3)"
   ]
  },
  {
   "cell_type": "markdown",
   "metadata": {},
   "source": [
    "## QLD Historical Crash Data"
   ]
  },
  {
   "cell_type": "markdown",
   "metadata": {},
   "source": [
    "Since the QLD API for historical crash data has query size limitations, we need to assemble it piece-wise by year.\n",
    "\n",
    "In the variables below, we can see that we have some similar fields to ACT data:\n",
    "\n",
    "* `Crash_Hour` identifies the time\n",
    "* `Crash_Longitude_GDA94` and `Crash_Latitude_GDA94` pinpoint the location\n",
    "* `Count_Unit_Bicycle` shows whether a cyclist was involved"
   ]
  },
  {
   "cell_type": "code",
   "execution_count": 7,
   "metadata": {
    "scrolled": true
   },
   "outputs": [
    {
     "name": "stderr",
     "output_type": "stream",
     "text": [
      "C:\\Users\\rober\\Anaconda3\\lib\\site-packages\\IPython\\core\\interactiveshell.py:3058: DtypeWarning: Columns (15) have mixed types. Specify dtype option on import or set low_memory=False.\n",
      "  interactivity=interactivity, compiler=compiler, result=result)\n"
     ]
    },
    {
     "name": "stdout",
     "output_type": "stream",
     "text": [
      "<class 'pandas.core.frame.DataFrame'>\n",
      "RangeIndex: 328247 entries, 0 to 328246\n",
      "Data columns (total 52 columns):\n",
      "Crash_Ref_Number                   328247 non-null int64\n",
      "Crash_Severity                     328247 non-null object\n",
      "Crash_Year                         328247 non-null int64\n",
      "Crash_Month                        328247 non-null object\n",
      "Crash_Day_Of_Week                  328247 non-null object\n",
      "Crash_Hour                         328247 non-null int64\n",
      "Crash_Nature                       328247 non-null object\n",
      "Crash_Type                         328247 non-null object\n",
      "Crash_Longitude_GDA94              328247 non-null float64\n",
      "Crash_Latitude_GDA94               328247 non-null float64\n",
      "Crash_Street                       328238 non-null object\n",
      "Crash_Street_Intersecting          141695 non-null object\n",
      "State_Road_Name                    151727 non-null object\n",
      "Loc_Suburb                         328247 non-null object\n",
      "Loc_Local_Government_Area          328247 non-null object\n",
      "Loc_Post_Code                      328247 non-null object\n",
      "Loc_Police_Division                328247 non-null object\n",
      "Loc_Police_District                328247 non-null object\n",
      "Loc_Police_Region                  328247 non-null object\n",
      "Loc_Queensland_Transport_Region    328247 non-null object\n",
      "Loc_Main_Roads_Region              328247 non-null object\n",
      "Loc_ABS_Statistical_Area_2         328247 non-null object\n",
      "Loc_ABS_Statistical_Area_3         328247 non-null object\n",
      "Loc_ABS_Statistical_Area_4         328247 non-null object\n",
      "Loc_ABS_Remoteness                 328247 non-null object\n",
      "Loc_State_Electorate               328247 non-null object\n",
      "Loc_Federal_Electorate             328247 non-null object\n",
      "Crash_Controlling_Authority        328247 non-null object\n",
      "Crash_Roadway_Feature              328247 non-null object\n",
      "Crash_Traffic_Control              328247 non-null object\n",
      "Crash_Speed_Limit                  328244 non-null object\n",
      "Crash_Road_Surface_Condition       328247 non-null object\n",
      "Crash_Atmospheric_Condition        328247 non-null object\n",
      "Crash_Lighting_Condition           328247 non-null object\n",
      "Crash_Road_Horiz_Align             328247 non-null object\n",
      "Crash_Road_Vert_Align              328247 non-null object\n",
      "Crash_DCA_Code                     328163 non-null float64\n",
      "Crash_DCA_Description              328163 non-null object\n",
      "Crash_DCA_Group_Description        328247 non-null object\n",
      "DCA_Key_Approach_Dir               323921 non-null object\n",
      "Count_Casualty_Fatality            328247 non-null int64\n",
      "Count_Casualty_Hospitalised        328247 non-null int64\n",
      "Count_Casualty_MedicallyTreated    328247 non-null int64\n",
      "Count_Casualty_MinorInjury         328247 non-null int64\n",
      "Count_Casualty_Total               328247 non-null int64\n",
      "Count_Unit_Car                     328247 non-null int64\n",
      "Count_Unit_Motorcycle_Moped        328247 non-null int64\n",
      "Count_Unit_Truck                   328247 non-null int64\n",
      "Count_Unit_Bus                     328247 non-null int64\n",
      "Count_Unit_Bicycle                 328247 non-null int64\n",
      "Count_Unit_Pedestrian              328247 non-null int64\n",
      "Count_Unit_Other                   328247 non-null int64\n",
      "dtypes: float64(3), int64(15), object(34)\n",
      "memory usage: 130.2+ MB\n"
     ]
    }
   ],
   "source": [
    "limit = 32000\n",
    "df_list = []\n",
    "\n",
    "for year in range(2000,2019):\n",
    "\n",
    "    url = 'https://www.data.qld.gov.au/api/3/action/datastore_search?' \\\n",
    "        + 'resource_id=e88943c0-5968-4972-a15f-38e120d72ec0' \\\n",
    "        + '&limit=' + str(limit) \\\n",
    "        + '&q=' + '{\"Crash_Year\":\"'+str(year)+'\"}'\n",
    "    \n",
    "    qld_rc_js = get_data(url)\n",
    "    df_list.append(pd.DataFrame(qld_rc_js['result']['records']))\n",
    "    \n",
    "qld_rc = pd.concat(df_list, ignore_index=True)\n",
    "\n",
    "qld_rc.info()    "
   ]
  },
  {
   "cell_type": "markdown",
   "metadata": {},
   "source": [
    "There is much more information here relative to ACT counterparts (then again, QLD is a bigger place!), so we need to be selective about the variables we feed into CAS29. Importantly, we should distinguish pedestrian from cyclist crashes as we did for ACT data.\n",
    "\n",
    "First, let's select a subset of variables similar to the ones we obtain in the ACT:"
   ]
  },
  {
   "cell_type": "code",
   "execution_count": 8,
   "metadata": {},
   "outputs": [],
   "source": [
    "qld_vars = ['Crash_Ref_Number',\n",
    "            'Crash_Year',\n",
    "            'Crash_Month',\n",
    "            'Crash_Day_Of_Week',\n",
    "            'Crash_Hour',\n",
    "            'Crash_Severity',\n",
    "            'Crash_Type',\n",
    "            'Count_Casualty_Total',\n",
    "            'Count_Unit_Pedestrian',\n",
    "            'Count_Unit_Bicycle',\n",
    "            'Crash_Street',\n",
    "            'Crash_Latitude_GDA94',\n",
    "            'Crash_Longitude_GDA94'             \n",
    "           ]"
   ]
  },
  {
   "cell_type": "markdown",
   "metadata": {},
   "source": [
    "### Pedestrian Crashes\n",
    "\n",
    "Here, we subset crashes that involved pedestrians, and apply some of the steps we did with ACT data:"
   ]
  },
  {
   "cell_type": "code",
   "execution_count": 9,
   "metadata": {},
   "outputs": [
    {
     "data": {
      "text/html": [
       "<div>\n",
       "<style scoped>\n",
       "    .dataframe tbody tr th:only-of-type {\n",
       "        vertical-align: middle;\n",
       "    }\n",
       "\n",
       "    .dataframe tbody tr th {\n",
       "        vertical-align: top;\n",
       "    }\n",
       "\n",
       "    .dataframe thead th {\n",
       "        text-align: right;\n",
       "    }\n",
       "</style>\n",
       "<table border=\"1\" class=\"dataframe\">\n",
       "  <thead>\n",
       "    <tr style=\"text-align: right;\">\n",
       "      <th></th>\n",
       "      <th>Crash_Ref_Number</th>\n",
       "      <th>Crash_Year</th>\n",
       "      <th>Crash_Month</th>\n",
       "      <th>Crash_Day_Of_Week</th>\n",
       "      <th>Crash_Hour</th>\n",
       "      <th>Crash_Severity</th>\n",
       "      <th>Crash_Type</th>\n",
       "      <th>Count_Casualty_Total</th>\n",
       "      <th>Count_Unit_Pedestrian</th>\n",
       "      <th>Count_Unit_Bicycle</th>\n",
       "      <th>Crash_Street</th>\n",
       "      <th>lat</th>\n",
       "      <th>lon</th>\n",
       "      <th>time_in_min</th>\n",
       "    </tr>\n",
       "  </thead>\n",
       "  <tbody>\n",
       "    <tr>\n",
       "      <th>219842</th>\n",
       "      <td>219843</td>\n",
       "      <td>2008</td>\n",
       "      <td>February</td>\n",
       "      <td>Sunday</td>\n",
       "      <td>9</td>\n",
       "      <td>Hospitalisation</td>\n",
       "      <td>Hit pedestrian</td>\n",
       "      <td>1</td>\n",
       "      <td>1</td>\n",
       "      <td>0</td>\n",
       "      <td>D'Aguilar Hwy</td>\n",
       "      <td>-26.945480</td>\n",
       "      <td>152.565477</td>\n",
       "      <td>540</td>\n",
       "    </tr>\n",
       "    <tr>\n",
       "      <th>241509</th>\n",
       "      <td>241510</td>\n",
       "      <td>2016</td>\n",
       "      <td>November</td>\n",
       "      <td>Friday</td>\n",
       "      <td>7</td>\n",
       "      <td>Hospitalisation</td>\n",
       "      <td>Hit pedestrian</td>\n",
       "      <td>1</td>\n",
       "      <td>1</td>\n",
       "      <td>0</td>\n",
       "      <td>Bundaberg - Gin Gin Rd</td>\n",
       "      <td>-24.850864</td>\n",
       "      <td>152.335376</td>\n",
       "      <td>420</td>\n",
       "    </tr>\n",
       "    <tr>\n",
       "      <th>174328</th>\n",
       "      <td>174329</td>\n",
       "      <td>2005</td>\n",
       "      <td>April</td>\n",
       "      <td>Saturday</td>\n",
       "      <td>18</td>\n",
       "      <td>Hospitalisation</td>\n",
       "      <td>Hit pedestrian</td>\n",
       "      <td>1</td>\n",
       "      <td>1</td>\n",
       "      <td>0</td>\n",
       "      <td>Ferndale St</td>\n",
       "      <td>-27.517085</td>\n",
       "      <td>153.029827</td>\n",
       "      <td>1080</td>\n",
       "    </tr>\n",
       "  </tbody>\n",
       "</table>\n",
       "</div>"
      ],
      "text/plain": [
       "        Crash_Ref_Number  Crash_Year Crash_Month Crash_Day_Of_Week  \\\n",
       "219842            219843        2008    February            Sunday   \n",
       "241509            241510        2016    November            Friday   \n",
       "174328            174329        2005       April          Saturday   \n",
       "\n",
       "        Crash_Hour   Crash_Severity      Crash_Type  Count_Casualty_Total  \\\n",
       "219842           9  Hospitalisation  Hit pedestrian                     1   \n",
       "241509           7  Hospitalisation  Hit pedestrian                     1   \n",
       "174328          18  Hospitalisation  Hit pedestrian                     1   \n",
       "\n",
       "        Count_Unit_Pedestrian  Count_Unit_Bicycle            Crash_Street  \\\n",
       "219842                      1                   0           D'Aguilar Hwy   \n",
       "241509                      1                   0  Bundaberg - Gin Gin Rd   \n",
       "174328                      1                   0             Ferndale St   \n",
       "\n",
       "              lat         lon  time_in_min  \n",
       "219842 -26.945480  152.565477          540  \n",
       "241509 -24.850864  152.335376          420  \n",
       "174328 -27.517085  153.029827         1080  "
      ]
     },
     "execution_count": 9,
     "metadata": {},
     "output_type": "execute_result"
    }
   ],
   "source": [
    "qld_pc = qld_rc[qld_rc['Count_Unit_Pedestrian']>0][qld_vars]\n",
    "qld_pc = qld_pc.rename(columns={'Crash_Latitude_GDA94':'lat', 'Crash_Longitude_GDA94':'lon'})\n",
    "qld_pc['time_in_min'] = qld_pc['Crash_Hour']*60\n",
    "qld_pc.sample(3)"
   ]
  },
  {
   "cell_type": "markdown",
   "metadata": {},
   "source": [
    "### Cyclist Crashes\n",
    "\n",
    "Here, we subset crashes that involved cyclists, and again apply some of the steps we did with ACT data:"
   ]
  },
  {
   "cell_type": "code",
   "execution_count": 10,
   "metadata": {},
   "outputs": [
    {
     "data": {
      "text/html": [
       "<div>\n",
       "<style scoped>\n",
       "    .dataframe tbody tr th:only-of-type {\n",
       "        vertical-align: middle;\n",
       "    }\n",
       "\n",
       "    .dataframe tbody tr th {\n",
       "        vertical-align: top;\n",
       "    }\n",
       "\n",
       "    .dataframe thead th {\n",
       "        text-align: right;\n",
       "    }\n",
       "</style>\n",
       "<table border=\"1\" class=\"dataframe\">\n",
       "  <thead>\n",
       "    <tr style=\"text-align: right;\">\n",
       "      <th></th>\n",
       "      <th>Crash_Ref_Number</th>\n",
       "      <th>Crash_Year</th>\n",
       "      <th>Crash_Month</th>\n",
       "      <th>Crash_Day_Of_Week</th>\n",
       "      <th>Crash_Hour</th>\n",
       "      <th>Crash_Severity</th>\n",
       "      <th>Crash_Type</th>\n",
       "      <th>Count_Casualty_Total</th>\n",
       "      <th>Count_Unit_Pedestrian</th>\n",
       "      <th>Count_Unit_Bicycle</th>\n",
       "      <th>Crash_Street</th>\n",
       "      <th>lat</th>\n",
       "      <th>lon</th>\n",
       "      <th>time_in_min</th>\n",
       "    </tr>\n",
       "  </thead>\n",
       "  <tbody>\n",
       "    <tr>\n",
       "      <th>119458</th>\n",
       "      <td>119459</td>\n",
       "      <td>2010</td>\n",
       "      <td>February</td>\n",
       "      <td>Wednesday</td>\n",
       "      <td>15</td>\n",
       "      <td>Medical treatment</td>\n",
       "      <td>Multi-Vehicle</td>\n",
       "      <td>1</td>\n",
       "      <td>0</td>\n",
       "      <td>1</td>\n",
       "      <td>Brinsmead Rd</td>\n",
       "      <td>-16.893633</td>\n",
       "      <td>145.710570</td>\n",
       "      <td>900</td>\n",
       "    </tr>\n",
       "    <tr>\n",
       "      <th>13030</th>\n",
       "      <td>13031</td>\n",
       "      <td>2006</td>\n",
       "      <td>May</td>\n",
       "      <td>Wednesday</td>\n",
       "      <td>8</td>\n",
       "      <td>Minor injury</td>\n",
       "      <td>Multi-Vehicle</td>\n",
       "      <td>1</td>\n",
       "      <td>0</td>\n",
       "      <td>1</td>\n",
       "      <td>Bundaberg - Port Rd</td>\n",
       "      <td>-24.879637</td>\n",
       "      <td>152.350979</td>\n",
       "      <td>480</td>\n",
       "    </tr>\n",
       "    <tr>\n",
       "      <th>30414</th>\n",
       "      <td>30415</td>\n",
       "      <td>2015</td>\n",
       "      <td>September</td>\n",
       "      <td>Tuesday</td>\n",
       "      <td>17</td>\n",
       "      <td>Medical treatment</td>\n",
       "      <td>Multi-Vehicle</td>\n",
       "      <td>1</td>\n",
       "      <td>0</td>\n",
       "      <td>1</td>\n",
       "      <td>Rich La</td>\n",
       "      <td>-27.465317</td>\n",
       "      <td>153.029914</td>\n",
       "      <td>1020</td>\n",
       "    </tr>\n",
       "  </tbody>\n",
       "</table>\n",
       "</div>"
      ],
      "text/plain": [
       "        Crash_Ref_Number  Crash_Year Crash_Month Crash_Day_Of_Week  \\\n",
       "119458            119459        2010    February         Wednesday   \n",
       "13030              13031        2006         May         Wednesday   \n",
       "30414              30415        2015   September           Tuesday   \n",
       "\n",
       "        Crash_Hour     Crash_Severity     Crash_Type  Count_Casualty_Total  \\\n",
       "119458          15  Medical treatment  Multi-Vehicle                     1   \n",
       "13030            8       Minor injury  Multi-Vehicle                     1   \n",
       "30414           17  Medical treatment  Multi-Vehicle                     1   \n",
       "\n",
       "        Count_Unit_Pedestrian  Count_Unit_Bicycle         Crash_Street  \\\n",
       "119458                      0                   1         Brinsmead Rd   \n",
       "13030                       0                   1  Bundaberg - Port Rd   \n",
       "30414                       0                   1              Rich La   \n",
       "\n",
       "              lat         lon  time_in_min  \n",
       "119458 -16.893633  145.710570          900  \n",
       "13030  -24.879637  152.350979          480  \n",
       "30414  -27.465317  153.029914         1020  "
      ]
     },
     "execution_count": 10,
     "metadata": {},
     "output_type": "execute_result"
    }
   ],
   "source": [
    "qld_cc = qld_rc[qld_rc['Count_Unit_Bicycle']>0][qld_vars]\n",
    "qld_cc = qld_cc.rename(columns={'Crash_Latitude_GDA94':'lat', 'Crash_Longitude_GDA94':'lon'})\n",
    "qld_cc['time_in_min'] = qld_cc['Crash_Hour']*60\n",
    "qld_cc.sample(3)"
   ]
  },
  {
   "cell_type": "markdown",
   "metadata": {},
   "source": [
    "## QLD Real-time Traffic Data\n",
    "\n",
    "This real-time API can be a source of very useful features for CAS29 users in QLD. We explain each feature below."
   ]
  },
  {
   "cell_type": "code",
   "execution_count": 11,
   "metadata": {},
   "outputs": [],
   "source": [
    "def make_url(i):\n",
    "    \"\"\"\n",
    "    Takes a value from {0,1,2} to generate the API query for webcams, high-risk crash zones and events respectively\n",
    "    \"\"\"\n",
    "    types = ['v1/webcams','v1/highriskcrashzones','v2/events']\n",
    "    return 'https://api.qldtraffic.qld.gov.au/' + types[i] \\\n",
    "            + '?apikey=3e83add325cbb69ac4d8e5bf433d770b'"
   ]
  },
  {
   "cell_type": "markdown",
   "metadata": {},
   "source": [
    "### Webcams\n",
    "\n",
    "Webcams provide live images from various roads around QLD. "
   ]
  },
  {
   "cell_type": "code",
   "execution_count": 12,
   "metadata": {},
   "outputs": [
    {
     "data": {
      "text/plain": [
       "dict_keys(['type', 'features', 'published', 'rights'])"
      ]
     },
     "execution_count": 12,
     "metadata": {},
     "output_type": "execute_result"
    }
   ],
   "source": [
    "r = get_data(make_url(0))\n",
    "r.keys()"
   ]
  },
  {
   "cell_type": "markdown",
   "metadata": {},
   "source": [
    "Below we see how many webcams we are getting feeds from:"
   ]
  },
  {
   "cell_type": "code",
   "execution_count": 13,
   "metadata": {},
   "outputs": [
    {
     "name": "stdout",
     "output_type": "stream",
     "text": [
      "We can access live images from 177 cameras!\n"
     ]
    }
   ],
   "source": [
    "print('We can access live images from '+str(len(r['features']))+' cameras!')"
   ]
  },
  {
   "cell_type": "markdown",
   "metadata": {},
   "source": [
    "Let's see what metadata the first camera gives us. Aside from the `image_url` required to access the feed, we also get location coordinates which can be matched against a cyclist's location or planned route."
   ]
  },
  {
   "cell_type": "code",
   "execution_count": 14,
   "metadata": {},
   "outputs": [
    {
     "data": {
      "text/plain": [
       "{'type': 'Feature',\n",
       " 'geometry': {'type': 'Point', 'coordinates': [153.0086975, -27.5551796]},\n",
       " 'properties': {'id': 1,\n",
       "  'url': 'https://api.qldtraffic.qld.gov.au/v1/webcams/1',\n",
       "  'description': 'Archerfield - Ipswich Mwy - North',\n",
       "  'direction': 'NorthEast',\n",
       "  'district': 'Metropolitan',\n",
       "  'locality': 'Archerfield',\n",
       "  'postcode': '4108',\n",
       "  'image_url': 'https://webcams.qldtraffic.qld.gov.au/Metropolitan/Archerfield_Ipswich_Mwy_sth.jpg',\n",
       "  'image_sourced_from': None,\n",
       "  'isCustom': False}}"
      ]
     },
     "execution_count": 14,
     "metadata": {},
     "output_type": "execute_result"
    }
   ],
   "source": [
    "r['features'][0]"
   ]
  },
  {
   "cell_type": "markdown",
   "metadata": {},
   "source": [
    "We can now navigate to the `image_url` and extract the image. CAS29 users in QLD could potentially be able to access image feeds from webcams along a given route to get an idea of traffic conditions or other hazards (e.g. large puddles that may be hard for cyclists to navigate) before setting out on their journey. CAS29 itself may be able to identify hazards from the feeds to alert cyclists about."
   ]
  },
  {
   "cell_type": "code",
   "execution_count": 15,
   "metadata": {},
   "outputs": [
    {
     "data": {
      "image/png": "[encoded data removed]",
      "text/plain": [
       "<PIL.JpegImagePlugin.JpegImageFile image mode=RGB size=320x256 at 0x2216B5EDC18>"
      ]
     },
     "execution_count": 15,
     "metadata": {},
     "output_type": "execute_result"
    }
   ],
   "source": [
    "from PIL import Image\n",
    "from io import BytesIO\n",
    "img_url = r['features'][0]['properties']['image_url']\n",
    "r_img = requests.get(img_url)\n",
    "img = Image.open(BytesIO(r_img.content))\n",
    "img"
   ]
  },
  {
   "cell_type": "markdown",
   "metadata": {},
   "source": [
    "### High-risk Crash Zones\n",
    "\n",
    "We can also extract the most up-to-date high-risk crash zones:"
   ]
  },
  {
   "cell_type": "code",
   "execution_count": 16,
   "metadata": {},
   "outputs": [
    {
     "data": {
      "text/plain": [
       "dict_keys(['name', 'type', 'crs', 'features', 'published', 'rights'])"
      ]
     },
     "execution_count": 16,
     "metadata": {},
     "output_type": "execute_result"
    }
   ],
   "source": [
    "r = get_data(make_url(1))\n",
    "r.keys()"
   ]
  },
  {
   "cell_type": "code",
   "execution_count": 17,
   "metadata": {},
   "outputs": [
    {
     "name": "stdout",
     "output_type": "stream",
     "text": [
      "We are looking at the Top 26 high-risk crash zones\n"
     ]
    }
   ],
   "source": [
    "print('We are looking at the '+ r['name'].replace('_',' ')+ ' high-risk crash zones')"
   ]
  },
  {
   "cell_type": "markdown",
   "metadata": {},
   "source": [
    "Let's take a look at the first zone:\n",
    "* We can extract its coordinates from `geometry`\n",
    "* We can get extra information from `properties`"
   ]
  },
  {
   "cell_type": "code",
   "execution_count": 18,
   "metadata": {},
   "outputs": [
    {
     "data": {
      "text/plain": [
       "dict_keys(['type', 'geometry', 'properties'])"
      ]
     },
     "execution_count": 18,
     "metadata": {},
     "output_type": "execute_result"
    }
   ],
   "source": [
    "r['features'][0].keys()"
   ]
  },
  {
   "cell_type": "code",
   "execution_count": 19,
   "metadata": {},
   "outputs": [
    {
     "data": {
      "text/plain": [
       "[[153.304967, -27.650293996],\n",
       " [153.305184, -27.649339996],\n",
       " [153.305243, -27.649060996],\n",
       " [153.305269, -27.648925],\n",
       " [153.30529, -27.648796]]"
      ]
     },
     "execution_count": 19,
     "metadata": {},
     "output_type": "execute_result"
    }
   ],
   "source": [
    "zone_coords = r['features'][0]['geometry']['coordinates'][0]\n",
    "zone_coords[:5]"
   ]
  },
  {
   "cell_type": "code",
   "execution_count": 20,
   "metadata": {},
   "outputs": [
    {
     "data": {
      "text/plain": [
       "{'road_section_id': '109',\n",
       " 'road_name': 'Cleveland Redland Bay Road',\n",
       " 'description': 'This road has experienced a higher crash occurrence in the past compared to other roads. Road Users are advised to take care and to drive to prevailing conditions',\n",
       " 'Suburb': 'Cleveland / Redland Bay / Thornlands / Victoria Point',\n",
       " 'District': 'Metropolitan'}"
      ]
     },
     "execution_count": 20,
     "metadata": {},
     "output_type": "execute_result"
    }
   ],
   "source": [
    "r['features'][0]['properties']"
   ]
  },
  {
   "cell_type": "markdown",
   "metadata": {},
   "source": [
    "Furthermore, we could plot out the zone (and even overlay it on a local map) using latitude and longitude coordinates. Below is just an outline of the zone:"
   ]
  },
  {
   "cell_type": "code",
   "execution_count": 21,
   "metadata": {},
   "outputs": [
    {
     "data": {
      "image/png": "[encoded data removed]",
      "text/plain": [
       "<Figure size 432x288 with 1 Axes>"
      ]
     },
     "metadata": {
      "needs_background": "light"
     },
     "output_type": "display_data"
    }
   ],
   "source": [
    "df = gpd.GeoDataFrame(columns=['geometry'])\n",
    "df = df.append({'geometry': (Polygon(zone_coords))}, ignore_index=True)\n",
    "df.plot()\n",
    "plt.show()"
   ]
  },
  {
   "cell_type": "markdown",
   "metadata": {},
   "source": [
    "### Events\n",
    "\n",
    "Obtaining information on Events is similar to High-risk crash zones:"
   ]
  },
  {
   "cell_type": "code",
   "execution_count": 22,
   "metadata": {},
   "outputs": [
    {
     "data": {
      "text/plain": [
       "dict_keys(['type', 'features', 'published', 'rights'])"
      ]
     },
     "execution_count": 22,
     "metadata": {},
     "output_type": "execute_result"
    }
   ],
   "source": [
    "r = get_data(make_url(2))\n",
    "r.keys()"
   ]
  },
  {
   "cell_type": "code",
   "execution_count": 23,
   "metadata": {},
   "outputs": [
    {
     "name": "stdout",
     "output_type": "stream",
     "text": [
      "There are 283 events!\n"
     ]
    }
   ],
   "source": [
    "print('There are '+str(len(r['features']))+' events!')"
   ]
  },
  {
   "cell_type": "markdown",
   "metadata": {},
   "source": [
    "Taking a look at the first event, we can perform the same basic analysis as above:"
   ]
  },
  {
   "cell_type": "code",
   "execution_count": 24,
   "metadata": {},
   "outputs": [
    {
     "data": {
      "text/plain": [
       "[[148.9395348, -21.3292286],\n",
       " [148.93963, -21.33001],\n",
       " [148.93969, -21.3303],\n",
       " [148.94012, -21.33247],\n",
       " [148.94039, -21.33365]]"
      ]
     },
     "execution_count": 24,
     "metadata": {},
     "output_type": "execute_result"
    }
   ],
   "source": [
    "zone_coords = r['features'][0]['geometry']['coordinates'][0]\n",
    "zone_coords[:5]"
   ]
  },
  {
   "cell_type": "markdown",
   "metadata": {},
   "source": [
    "In addition to the coordinates for the area affected by the event, there are also many event details under `properties` that are potentially relevant to a CAS29 user: "
   ]
  },
  {
   "cell_type": "code",
   "execution_count": 25,
   "metadata": {},
   "outputs": [
    {
     "data": {
      "text/plain": [
       "{'id': 2301,\n",
       " 'area_alert': False,\n",
       " 'status': 'Published',\n",
       " 'published': '2016-08-25T14:24:00+10:00',\n",
       " 'source': {'source_name': 'EPS',\n",
       "  'source_id': None,\n",
       "  'account': None,\n",
       "  'provided_by': 'Department of Transport and Main Roads',\n",
       "  'provided_by_url': 'https://qldtraffic.qld.gov.au'},\n",
       " 'url': 'https://api.qldtraffic.qld.gov.au/v2/events/2301',\n",
       " 'event_type': 'Roadworks',\n",
       " 'event_subtype': 'Planned roadworks',\n",
       " 'event_due_to': None,\n",
       " 'impact': {'direction': 'Both directions',\n",
       "  'towards': None,\n",
       "  'impact_type': 'No blockage',\n",
       "  'impact_subtype': None,\n",
       "  'delay': 'Delays expected (during active hours)'},\n",
       " 'duration': {'start': '2016-04-04T08:00:00+10:00',\n",
       "  'end': '2019-11-30T18:00:00+10:00',\n",
       "  'active_days': None,\n",
       "  'recurrences': None},\n",
       " 'event_priority': 'Medium',\n",
       " 'description': 'Construction - Eton Range Realignment Project',\n",
       " 'advice': 'Allow extra travel time',\n",
       " 'information': 'Operators of vehicles over 7.9m wide need to call the project site at least 5 days prior to travelling through the site. Please check the TMR Conditions of Operation Database for more information on restrictions and contact details. ',\n",
       " 'road_summary': {'road_name': 'Peak Downs Highway',\n",
       "  'locality': 'Eton',\n",
       "  'postcode': '4741',\n",
       "  'local_government_area': 'Mackay Regional',\n",
       "  'district': 'Mackay/Whitsunday'},\n",
       " 'last_updated': '2019-07-16T14:37:56.810924+10:00',\n",
       " 'next_inspection': None,\n",
       " 'web_link': 'http://www.tmr.qld.gov.au/Projects/Name/E/Eton-Range-Peak-Downs-Highway',\n",
       " 'alert_message': None}"
      ]
     },
     "execution_count": 25,
     "metadata": {},
     "output_type": "execute_result"
    }
   ],
   "source": [
    "r['features'][0]['properties']"
   ]
  },
  {
   "cell_type": "markdown",
   "metadata": {},
   "source": [
    "Again, we can map out the affected region using geo-coordinates:"
   ]
  },
  {
   "cell_type": "code",
   "execution_count": 26,
   "metadata": {},
   "outputs": [
    {
     "data": {
      "image/png": "[encoded data removed]",
      "text/plain": [
       "<Figure size 432x288 with 1 Axes>"
      ]
     },
     "metadata": {
      "needs_background": "light"
     },
     "output_type": "display_data"
    }
   ],
   "source": [
    "df = gpd.GeoDataFrame(columns=['geometry'])\n",
    "df = df.append({'geometry': (Polygon(zone_coords))}, ignore_index=True)\n",
    "df.plot()\n",
    "plt.show()"
   ]
  },
  {
   "cell_type": "markdown",
   "metadata": {},
   "source": [
    "## BOM Data\n",
    "\n",
    "The BOM provides JSON API links to extract the latest weather data from selected weather stations.\n",
    "\n",
    "Below is an example for the Canberra weather station:"
   ]
  },
  {
   "cell_type": "code",
   "execution_count": 27,
   "metadata": {},
   "outputs": [
    {
     "data": {
      "text/plain": [
       "dict_keys(['notice', 'header', 'data'])"
      ]
     },
     "execution_count": 27,
     "metadata": {},
     "output_type": "execute_result"
    }
   ],
   "source": [
    "url = 'http://www.bom.gov.au/fwo/IDN60903/IDN60903.94926.json' # Canberra weather station\n",
    "r = get_data(url)\n",
    "r['observations'].keys()"
   ]
  },
  {
   "cell_type": "markdown",
   "metadata": {},
   "source": [
    "To get the latest weather, we access the first row of the `data` key. Below, we can see that BOM provides a series of variables from which CAS29 can extract a subset that are most relevant to a cyclist:"
   ]
  },
  {
   "cell_type": "code",
   "execution_count": 28,
   "metadata": {},
   "outputs": [
    {
     "data": {
      "text/plain": [
       "{'sort_order': 0,\n",
       " 'wmo': 94926,\n",
       " 'name': 'Canberra',\n",
       " 'history_product': 'IDN60903',\n",
       " 'local_date_time': '08/01:00pm',\n",
       " 'local_date_time_full': '20190908130000',\n",
       " 'aifstime_utc': '20190908030000',\n",
       " 'lat': -35.3,\n",
       " 'lon': 149.2,\n",
       " 'apparent_t': 3.8,\n",
       " 'cloud': '-',\n",
       " 'cloud_base_m': None,\n",
       " 'cloud_oktas': None,\n",
       " 'cloud_type_id': None,\n",
       " 'cloud_type': '-',\n",
       " 'delta_t': 5.2,\n",
       " 'gust_kmh': 43,\n",
       " 'gust_kt': 23,\n",
       " 'air_temp': 12.1,\n",
       " 'dewpt': -0.1,\n",
       " 'press': 1011.7,\n",
       " 'press_qnh': 1011.6,\n",
       " 'press_msl': 1011.7,\n",
       " 'press_tend': '-',\n",
       " 'rain_trace': '0.0',\n",
       " 'rel_hum': 43,\n",
       " 'sea_state': '-',\n",
       " 'swell_dir_worded': '-',\n",
       " 'swell_height': None,\n",
       " 'swell_period': None,\n",
       " 'vis_km': '10',\n",
       " 'weather': '-',\n",
       " 'wind_dir': 'WNW',\n",
       " 'wind_spd_kmh': 33,\n",
       " 'wind_spd_kt': 18}"
      ]
     },
     "execution_count": 28,
     "metadata": {},
     "output_type": "execute_result"
    }
   ],
   "source": [
    "r['observations']['data'][0]"
   ]
  }
 ],
 "metadata": {
  "kernelspec": {
   "display_name": "Python 3",
   "language": "python",
   "name": "python3"
  },
  "language_info": {
   "codemirror_mode": {
    "name": "ipython",
    "version": 3
   },
   "file_extension": ".py",
   "mimetype": "text/x-python",
   "name": "python",
   "nbconvert_exporter": "python",
   "pygments_lexer": "ipython3",
   "version": "3.6.9"
  }
 },
 "nbformat": 4,
 "nbformat_minor": 2
}
