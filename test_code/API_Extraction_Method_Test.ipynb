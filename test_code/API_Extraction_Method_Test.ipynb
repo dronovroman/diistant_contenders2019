{
 "cells": [
  {
   "cell_type": "markdown",
   "metadata": {},
   "source": [
    "## Testing API Data Extraction Methods\n",
    "\n",
    "`requests.get(URL).json()` vs. `urllib.request.urlopen(URL) + json.loads(url.read().decode())`"
   ]
  },
  {
   "cell_type": "code",
   "execution_count": 1,
   "metadata": {},
   "outputs": [],
   "source": [
    "import pandas as pd\n",
    "import urllib\n",
    "import requests\n",
    "import json"
   ]
  },
  {
   "cell_type": "code",
   "execution_count": 2,
   "metadata": {},
   "outputs": [],
   "source": [
    "data_url = 'https://www.data.act.gov.au/resource/n2kg-qkwj.json'"
   ]
  },
  {
   "cell_type": "code",
   "execution_count": 3,
   "metadata": {},
   "outputs": [
    {
     "name": "stdout",
     "output_type": "stream",
     "text": [
      "Wall time: 1.61 s\n"
     ]
    }
   ],
   "source": [
    "%%time\n",
    "data_cc_1 = requests.get(data_url).json()"
   ]
  },
  {
   "cell_type": "code",
   "execution_count": 4,
   "metadata": {},
   "outputs": [
    {
     "name": "stdout",
     "output_type": "stream",
     "text": [
      "Wall time: 3.17 s\n"
     ]
    }
   ],
   "source": [
    "%%time\n",
    "with urllib.request.urlopen(data_url) as url:\n",
    "    data_cc_2 = json.loads(url.read().decode())"
   ]
  },
  {
   "cell_type": "code",
   "execution_count": 5,
   "metadata": {},
   "outputs": [
    {
     "data": {
      "text/plain": [
       "True"
      ]
     },
     "execution_count": 5,
     "metadata": {},
     "output_type": "execute_result"
    }
   ],
   "source": [
    "data_cc_1 == data_cc_2"
   ]
  },
  {
   "cell_type": "code",
   "execution_count": 6,
   "metadata": {},
   "outputs": [
    {
     "data": {
      "text/html": [
       "<div>\n",
       "<style scoped>\n",
       "    .dataframe tbody tr th:only-of-type {\n",
       "        vertical-align: middle;\n",
       "    }\n",
       "\n",
       "    .dataframe tbody tr th {\n",
       "        vertical-align: top;\n",
       "    }\n",
       "\n",
       "    .dataframe thead th {\n",
       "        text-align: right;\n",
       "    }\n",
       "</style>\n",
       "<table border=\"1\" class=\"dataframe\">\n",
       "  <thead>\n",
       "    <tr style=\"text-align: right;\">\n",
       "      <th></th>\n",
       "      <th>crash_id</th>\n",
       "      <th>crash_date</th>\n",
       "      <th>crash_time</th>\n",
       "      <th>severity</th>\n",
       "      <th>crash_type</th>\n",
       "      <th>cyclists</th>\n",
       "      <th>cyclist_casualties</th>\n",
       "      <th>reported_location</th>\n",
       "      <th>latitude</th>\n",
       "      <th>longitude</th>\n",
       "      <th>location_1</th>\n",
       "      <th>:@computed_region_h8vr_r9vc</th>\n",
       "    </tr>\n",
       "  </thead>\n",
       "  <tbody>\n",
       "    <tr>\n",
       "      <th>371</th>\n",
       "      <td>1151273</td>\n",
       "      <td>2016-11-29T07:25:00.000</td>\n",
       "      <td>07:25</td>\n",
       "      <td>Injury</td>\n",
       "      <td>Other - Vehicle to Vehicle</td>\n",
       "      <td>1</td>\n",
       "      <td>1</td>\n",
       "      <td>CANBERRA/WOODS INTERSECTION</td>\n",
       "      <td>-35.344036</td>\n",
       "      <td>149.199924</td>\n",
       "      <td>{'latitude': '-35.344036', 'longitude': '149.1...</td>\n",
       "      <td>NaN</td>\n",
       "    </tr>\n",
       "    <tr>\n",
       "      <th>332</th>\n",
       "      <td>1152121</td>\n",
       "      <td>2017-02-01T08:00:00.000</td>\n",
       "      <td>08:00</td>\n",
       "      <td>Property Damage Only</td>\n",
       "      <td>Same direction side swipe</td>\n",
       "      <td>1</td>\n",
       "      <td>0</td>\n",
       "      <td>NORTHBOURNE AVENUE (BARRY / COOYONG -&gt; MCKAY)</td>\n",
       "      <td>-35.274631</td>\n",
       "      <td>149.129857</td>\n",
       "      <td>{'latitude': '-35.274631', 'longitude': '149.1...</td>\n",
       "      <td>24</td>\n",
       "    </tr>\n",
       "    <tr>\n",
       "      <th>844</th>\n",
       "      <td>1105008</td>\n",
       "      <td>2014-11-13T06:58:00.000</td>\n",
       "      <td>06:58</td>\n",
       "      <td>Property Damage Only</td>\n",
       "      <td>Right angle collision</td>\n",
       "      <td>1</td>\n",
       "      <td>0</td>\n",
       "      <td>HEARD/MAWSON (SW) INTERSECTION</td>\n",
       "      <td>-35.366677</td>\n",
       "      <td>149.095446</td>\n",
       "      <td>{'latitude': '-35.366677', 'longitude': '149.0...</td>\n",
       "      <td>70</td>\n",
       "    </tr>\n",
       "    <tr>\n",
       "      <th>759</th>\n",
       "      <td>1046534</td>\n",
       "      <td>2012-09-27T11:15:00.000</td>\n",
       "      <td>11:15</td>\n",
       "      <td>Injury</td>\n",
       "      <td>Right angle collision</td>\n",
       "      <td>1</td>\n",
       "      <td>1</td>\n",
       "      <td>MASSON/MCCAUGHEY INTERSECTION</td>\n",
       "      <td>-35.269538</td>\n",
       "      <td>149.123292</td>\n",
       "      <td>{'latitude': '-35.269538', 'longitude': '149.1...</td>\n",
       "      <td>24</td>\n",
       "    </tr>\n",
       "    <tr>\n",
       "      <th>134</th>\n",
       "      <td>1193786</td>\n",
       "      <td>2018-09-27T18:30:00.000</td>\n",
       "      <td>18:30</td>\n",
       "      <td>Property Damage Only</td>\n",
       "      <td>Other - Vehicle to Vehicle</td>\n",
       "      <td>1</td>\n",
       "      <td>0</td>\n",
       "      <td>FAIRFAX/MACARTHUR/MILLER INTERSECTION</td>\n",
       "      <td>-35.258735</td>\n",
       "      <td>149.11523</td>\n",
       "      <td>{'latitude': '-35.258735', 'longitude': '149.1...</td>\n",
       "      <td>103</td>\n",
       "    </tr>\n",
       "  </tbody>\n",
       "</table>\n",
       "</div>"
      ],
      "text/plain": [
       "    crash_id               crash_date crash_time              severity  \\\n",
       "371  1151273  2016-11-29T07:25:00.000      07:25                Injury   \n",
       "332  1152121  2017-02-01T08:00:00.000      08:00  Property Damage Only   \n",
       "844  1105008  2014-11-13T06:58:00.000      06:58  Property Damage Only   \n",
       "759  1046534  2012-09-27T11:15:00.000      11:15                Injury   \n",
       "134  1193786  2018-09-27T18:30:00.000      18:30  Property Damage Only   \n",
       "\n",
       "                     crash_type cyclists cyclist_casualties  \\\n",
       "371  Other - Vehicle to Vehicle        1                  1   \n",
       "332   Same direction side swipe        1                  0   \n",
       "844       Right angle collision        1                  0   \n",
       "759       Right angle collision        1                  1   \n",
       "134  Other - Vehicle to Vehicle        1                  0   \n",
       "\n",
       "                                 reported_location    latitude   longitude  \\\n",
       "371                    CANBERRA/WOODS INTERSECTION  -35.344036  149.199924   \n",
       "332  NORTHBOURNE AVENUE (BARRY / COOYONG -> MCKAY)  -35.274631  149.129857   \n",
       "844                 HEARD/MAWSON (SW) INTERSECTION  -35.366677  149.095446   \n",
       "759                  MASSON/MCCAUGHEY INTERSECTION  -35.269538  149.123292   \n",
       "134          FAIRFAX/MACARTHUR/MILLER INTERSECTION  -35.258735   149.11523   \n",
       "\n",
       "                                            location_1  \\\n",
       "371  {'latitude': '-35.344036', 'longitude': '149.1...   \n",
       "332  {'latitude': '-35.274631', 'longitude': '149.1...   \n",
       "844  {'latitude': '-35.366677', 'longitude': '149.0...   \n",
       "759  {'latitude': '-35.269538', 'longitude': '149.1...   \n",
       "134  {'latitude': '-35.258735', 'longitude': '149.1...   \n",
       "\n",
       "    :@computed_region_h8vr_r9vc  \n",
       "371                         NaN  \n",
       "332                          24  \n",
       "844                          70  \n",
       "759                          24  \n",
       "134                         103  "
      ]
     },
     "execution_count": 6,
     "metadata": {},
     "output_type": "execute_result"
    }
   ],
   "source": [
    "data_cc_df = pd.DataFrame(data_cc_1)\n",
    "data_cc_df.sample(5)"
   ]
  }
 ],
 "metadata": {
  "kernelspec": {
   "display_name": "Python 3",
   "language": "python",
   "name": "python3"
  },
  "language_info": {
   "codemirror_mode": {
    "name": "ipython",
    "version": 3
   },
   "file_extension": ".py",
   "mimetype": "text/x-python",
   "name": "python",
   "nbconvert_exporter": "python",
   "pygments_lexer": "ipython3",
   "version": "3.6.9"
  }
 },
 "nbformat": 4,
 "nbformat_minor": 2
}
