{
 "cells": [
  {
   "cell_type": "markdown",
   "metadata": {},
   "source": [
    "<font color='blue'>\n",
    "    <h1>\n",
    "        Traffic Data APIs for CAS2029\n",
    "    </h1>\n",
    "</font>\n",
    "\n",
    "For our CAS2029 application, we use APIs from the ACT and QLD governments to access datasets related to traffic and road safety. This data contains useful information to assist cyclists in planning and undergoing safe journeys. The data recorded by the two states are similar in many aspects, but also have some differences which we explain throughout this document.\n",
    "\n",
    "### ACT Data\n",
    "\n",
    "There are two key historical datasets, both updated daily and going as far back as 2012:\n",
    "1. Pedestrian Crashes: https://www.data.act.gov.au/Justice-Safety-and-Emergency/Pedestrian-Crashes/emq2-8bc4\n",
    "2. Cyclist Crashes: https://www.data.act.gov.au/Justice-Safety-and-Emergency/Cyclist-Crashes/n2kg-qkwj\n",
    "\n",
    "They include geographic co-ordinates of each crash as well as some other details about the severity of the crash and road conditions.\n",
    "\n",
    "### QLD Data\n",
    "\n",
    "In QLD, there two key data sources:\n",
    "1. Road Crash Locations: https://www.data.qld.gov.au/dataset/crash-data-from-queensland-roads\n",
    "  * Similar to the ACT datasets, this includes the geo-coordinates of the crash sites\n",
    "  * The data goes back to 2001, but is not updated to the same extent as in the ACT, so it only goes up to end-of-2018\n",
    "  * It is, however, much richer in detail\n",
    "  * Notably, it captures all accident types (including pedestrian and cyclist) in one dataset\n",
    "<br><br>  \n",
    "2. QLDTraffic GeoJSON API: https://www.data.qld.gov.au/dataset/131940-traffic-and-travel-information-geojson-api\n",
    "  * This is a real-time information service (that appears to be unique to QLD)\n",
    "  * It covers the following:\n",
    "    * Live image feeds from webcams throughout the state\n",
    "    * Live updates of high-risk crash zones (including geo-coordinates)\n",
    "    * Live event updates (e.g. construction) (including geo-coordinates of affected areas)\n",
    "    \n",
    "***\n",
    "In this document, we outline the API data extraction process for each resource, including the process of ensuring compatitibility in historical crash data across QLD and ACT.\n",
    "<br><br>\n",
    "\n"
   ]
  },
  {
   "cell_type": "code",
   "execution_count": 1,
   "metadata": {},
   "outputs": [],
   "source": [
    "import pandas as pd\n",
    "import numpy as np\n",
    "import requests\n",
    "import time\n",
    "import matplotlib.pyplot as plt\n",
    "import requests\n",
    "import geopandas as gpd \n",
    "from shapely.geometry import Polygon\n",
    "\n",
    "def get_data(url): \n",
    "    \"\"\"\n",
    "    Returns JSON responses from URLs\n",
    "    \"\"\"\n",
    "    return requests.get(url).json()\n",
    "\n",
    "def timeconv(x):\n",
    "    \"\"\"\n",
    "    Converts time form %H:%M format to time in min after midnight\n",
    "    \"\"\"\n",
    "    tmo = time.strptime (x, \"%H:%M\") \n",
    "    return tmo.tm_hour*60+tmo.tm_min"
   ]
  },
  {
   "cell_type": "markdown",
   "metadata": {},
   "source": [
    "## ACT Historical Crash Data\n",
    "***\n",
    "### Pedestrian Crashes\n",
    "The JSON API data is a list of records, each structured as a dictionary:"
   ]
  },
  {
   "cell_type": "code",
   "execution_count": 2,
   "metadata": {},
   "outputs": [
    {
     "data": {
      "text/plain": [
       "{'crash_id': '1152106',\n",
       " 'crash_date': '2017-01-23T00:00:00.000',\n",
       " 'crash_time': '16:00',\n",
       " 'severity': 'Injury',\n",
       " 'crash_type': 'Struck pedestrian (On Road)',\n",
       " 'pedestrians': '1',\n",
       " 'pedestrian_casualties': '1',\n",
       " 'reported_location': 'RATCLIFFE CRESCENT (CHALLINOR -> CHALLINOR)',\n",
       " 'location': {'latitude': '-35.23191', 'longitude': '149.054575'}}"
      ]
     },
     "execution_count": 2,
     "metadata": {},
     "output_type": "execute_result"
    }
   ],
   "source": [
    "url = 'https://www.data.act.gov.au/resource/emq2-8bc4.json'\n",
    "act_pc_js = get_data(url)\n",
    "act_pc_js[0] # first record"
   ]
  },
  {
   "cell_type": "markdown",
   "metadata": {},
   "source": [
    "These records can be conveniently organised into a DataFrame that the CAS2029 app can access to deliver information to the cyclist:"
   ]
  },
  {
   "cell_type": "code",
   "execution_count": 3,
   "metadata": {},
   "outputs": [
    {
     "data": {
      "text/html": [
       "<div>\n",
       "<style scoped>\n",
       "    .dataframe tbody tr th:only-of-type {\n",
       "        vertical-align: middle;\n",
       "    }\n",
       "\n",
       "    .dataframe tbody tr th {\n",
       "        vertical-align: top;\n",
       "    }\n",
       "\n",
       "    .dataframe thead th {\n",
       "        text-align: right;\n",
       "    }\n",
       "</style>\n",
       "<table border=\"1\" class=\"dataframe\">\n",
       "  <thead>\n",
       "    <tr style=\"text-align: right;\">\n",
       "      <th></th>\n",
       "      <th>crash_id</th>\n",
       "      <th>crash_date</th>\n",
       "      <th>crash_time</th>\n",
       "      <th>severity</th>\n",
       "      <th>crash_type</th>\n",
       "      <th>pedestrians</th>\n",
       "      <th>pedestrian_casualties</th>\n",
       "      <th>reported_location</th>\n",
       "      <th>location</th>\n",
       "    </tr>\n",
       "  </thead>\n",
       "  <tbody>\n",
       "    <tr>\n",
       "      <th>127</th>\n",
       "      <td>1128162</td>\n",
       "      <td>2016-01-28T00:00:00.000</td>\n",
       "      <td>06:00</td>\n",
       "      <td>Injury</td>\n",
       "      <td>Struck pedestrian (On Road)</td>\n",
       "      <td>1</td>\n",
       "      <td>1</td>\n",
       "      <td>BROWNLEE/VERBRUGGHEN INTERSECTION</td>\n",
       "      <td>{'latitude': '-35.213605', 'longitude': '149.0...</td>\n",
       "    </tr>\n",
       "    <tr>\n",
       "      <th>301</th>\n",
       "      <td>1181154</td>\n",
       "      <td>2018-03-26T00:00:00.000</td>\n",
       "      <td>16:45</td>\n",
       "      <td>Injury</td>\n",
       "      <td>Struck pedestrian (On Road)</td>\n",
       "      <td>1</td>\n",
       "      <td>1</td>\n",
       "      <td>ANKETELL/PITMAN INTERSECTION</td>\n",
       "      <td>{'latitude': '-35.414494', 'longitude': '149.0...</td>\n",
       "    </tr>\n",
       "    <tr>\n",
       "      <th>7</th>\n",
       "      <td>1212886</td>\n",
       "      <td>2019-08-10T00:00:00.000</td>\n",
       "      <td>20:30</td>\n",
       "      <td>Injury</td>\n",
       "      <td>Struck pedestrian (On Road)</td>\n",
       "      <td>1</td>\n",
       "      <td>1</td>\n",
       "      <td>TUGGERANONG PARKWAY (LADYWTUGGSRM -&gt; TUGGSCOTT...</td>\n",
       "      <td>{'latitude': '-35.304403', 'longitude': '149.0...</td>\n",
       "    </tr>\n",
       "  </tbody>\n",
       "</table>\n",
       "</div>"
      ],
      "text/plain": [
       "    crash_id               crash_date crash_time severity  \\\n",
       "127  1128162  2016-01-28T00:00:00.000      06:00   Injury   \n",
       "301  1181154  2018-03-26T00:00:00.000      16:45   Injury   \n",
       "7    1212886  2019-08-10T00:00:00.000      20:30   Injury   \n",
       "\n",
       "                      crash_type pedestrians pedestrian_casualties  \\\n",
       "127  Struck pedestrian (On Road)           1                     1   \n",
       "301  Struck pedestrian (On Road)           1                     1   \n",
       "7    Struck pedestrian (On Road)           1                     1   \n",
       "\n",
       "                                     reported_location  \\\n",
       "127                  BROWNLEE/VERBRUGGHEN INTERSECTION   \n",
       "301                       ANKETELL/PITMAN INTERSECTION   \n",
       "7    TUGGERANONG PARKWAY (LADYWTUGGSRM -> TUGGSCOTT...   \n",
       "\n",
       "                                              location  \n",
       "127  {'latitude': '-35.213605', 'longitude': '149.0...  \n",
       "301  {'latitude': '-35.414494', 'longitude': '149.0...  \n",
       "7    {'latitude': '-35.304403', 'longitude': '149.0...  "
      ]
     },
     "execution_count": 3,
     "metadata": {},
     "output_type": "execute_result"
    }
   ],
   "source": [
    "act_pc = pd.DataFrame(act_pc_js)\n",
    "act_pc.sample(3)"
   ]
  },
  {
   "cell_type": "markdown",
   "metadata": {},
   "source": [
    "We just need to conduct a couple of data cleaning steps so that we have the *latitude* and *longitude* in separate variables, which allows the CAS2029 to pinpoint the location of previous crashes to identify high-risk areas:"
   ]
  },
  {
   "cell_type": "code",
   "execution_count": 4,
   "metadata": {},
   "outputs": [
    {
     "data": {
      "text/html": [
       "<div>\n",
       "<style scoped>\n",
       "    .dataframe tbody tr th:only-of-type {\n",
       "        vertical-align: middle;\n",
       "    }\n",
       "\n",
       "    .dataframe tbody tr th {\n",
       "        vertical-align: top;\n",
       "    }\n",
       "\n",
       "    .dataframe thead th {\n",
       "        text-align: right;\n",
       "    }\n",
       "</style>\n",
       "<table border=\"1\" class=\"dataframe\">\n",
       "  <thead>\n",
       "    <tr style=\"text-align: right;\">\n",
       "      <th></th>\n",
       "      <th>crash_id</th>\n",
       "      <th>crash_date</th>\n",
       "      <th>crash_time</th>\n",
       "      <th>severity</th>\n",
       "      <th>crash_type</th>\n",
       "      <th>pedestrians</th>\n",
       "      <th>pedestrian_casualties</th>\n",
       "      <th>reported_location</th>\n",
       "      <th>lat</th>\n",
       "      <th>lon</th>\n",
       "      <th>time_in_min</th>\n",
       "    </tr>\n",
       "  </thead>\n",
       "  <tbody>\n",
       "    <tr>\n",
       "      <th>282</th>\n",
       "      <td>1174151</td>\n",
       "      <td>2017-12-08T00:00:00.000</td>\n",
       "      <td>08:45</td>\n",
       "      <td>Injury</td>\n",
       "      <td>Struck pedestrian (On Road)</td>\n",
       "      <td>1</td>\n",
       "      <td>1</td>\n",
       "      <td>BARRY/MOORE INTERSECTION</td>\n",
       "      <td>-35.275606</td>\n",
       "      <td>149.128132</td>\n",
       "      <td>525</td>\n",
       "    </tr>\n",
       "    <tr>\n",
       "      <th>361</th>\n",
       "      <td>1207320</td>\n",
       "      <td>2019-05-10T00:00:00.000</td>\n",
       "      <td>16:30</td>\n",
       "      <td>Property Damage Only</td>\n",
       "      <td>Struck pedestrian (On Road)</td>\n",
       "      <td>1</td>\n",
       "      <td>0</td>\n",
       "      <td>BRIERLY STREET (PARKINSON -&gt; TRENERRY)</td>\n",
       "      <td>-35.341457</td>\n",
       "      <td>149.052288</td>\n",
       "      <td>990</td>\n",
       "    </tr>\n",
       "    <tr>\n",
       "      <th>231</th>\n",
       "      <td>1026849</td>\n",
       "      <td>2012-01-28T00:00:00.000</td>\n",
       "      <td>10:30</td>\n",
       "      <td>Injury</td>\n",
       "      <td>Struck pedestrian (On Road)</td>\n",
       "      <td>1</td>\n",
       "      <td>1</td>\n",
       "      <td>MACARTHUR/NORTHBOURNE/WAKEFIELD INTERSECTION</td>\n",
       "      <td>-35.260511</td>\n",
       "      <td>149.132038</td>\n",
       "      <td>630</td>\n",
       "    </tr>\n",
       "  </tbody>\n",
       "</table>\n",
       "</div>"
      ],
      "text/plain": [
       "    crash_id               crash_date crash_time              severity  \\\n",
       "282  1174151  2017-12-08T00:00:00.000      08:45                Injury   \n",
       "361  1207320  2019-05-10T00:00:00.000      16:30  Property Damage Only   \n",
       "231  1026849  2012-01-28T00:00:00.000      10:30                Injury   \n",
       "\n",
       "                      crash_type pedestrians pedestrian_casualties  \\\n",
       "282  Struck pedestrian (On Road)           1                     1   \n",
       "361  Struck pedestrian (On Road)           1                     0   \n",
       "231  Struck pedestrian (On Road)           1                     1   \n",
       "\n",
       "                                reported_location        lat         lon  \\\n",
       "282                      BARRY/MOORE INTERSECTION -35.275606  149.128132   \n",
       "361        BRIERLY STREET (PARKINSON -> TRENERRY) -35.341457  149.052288   \n",
       "231  MACARTHUR/NORTHBOURNE/WAKEFIELD INTERSECTION -35.260511  149.132038   \n",
       "\n",
       "     time_in_min  \n",
       "282          525  \n",
       "361          990  \n",
       "231          630  "
      ]
     },
     "execution_count": 4,
     "metadata": {},
     "output_type": "execute_result"
    }
   ],
   "source": [
    "act_pc['lat'] = act_pc['location'].apply(pd.Series)['latitude']\n",
    "act_pc['lon'] = act_pc['location'].apply(pd.Series)['longitude']\n",
    "act_pc['time_in_min'] = act_pc['crash_time'].apply(timeconv) # the CAS2029 app needs to see time in minutes\n",
    "act_pc = act_pc.astype({'lat':float, 'lon':float}).drop(columns=['location'])\n",
    "act_pc.sample(3)"
   ]
  },
  {
   "cell_type": "markdown",
   "metadata": {},
   "source": [
    "### Cyclist Crashes\n",
    "\n",
    "The API JSON output is very similar to the Road Crash data above, so we can process it in a similar fashion:"
   ]
  },
  {
   "cell_type": "code",
   "execution_count": 5,
   "metadata": {},
   "outputs": [
    {
     "data": {
      "text/plain": [
       "{'crash_id': '1195124',\n",
       " 'crash_date': '2018-10-31T08:42:00.000',\n",
       " 'crash_time': '08:42',\n",
       " 'severity': 'Injury',\n",
       " 'crash_type': 'Right angle collision',\n",
       " 'cyclists': '1',\n",
       " 'cyclist_casualties': '1',\n",
       " 'reported_location': 'KING GEORGE/LANGTON INTERSECTION',\n",
       " 'latitude': '-35.300163',\n",
       " 'longitude': '149.127264',\n",
       " 'location_1': {'latitude': '-35.300163', 'longitude': '149.127264'},\n",
       " ':@computed_region_h8vr_r9vc': '111'}"
      ]
     },
     "execution_count": 5,
     "metadata": {},
     "output_type": "execute_result"
    }
   ],
   "source": [
    "url = 'https://www.data.act.gov.au/resource/n2kg-qkwj.json'\n",
    "act_cc_js = get_data(url)\n",
    "act_cc_js[0]"
   ]
  },
  {
   "cell_type": "code",
   "execution_count": 6,
   "metadata": {},
   "outputs": [
    {
     "data": {
      "text/html": [
       "<div>\n",
       "<style scoped>\n",
       "    .dataframe tbody tr th:only-of-type {\n",
       "        vertical-align: middle;\n",
       "    }\n",
       "\n",
       "    .dataframe tbody tr th {\n",
       "        vertical-align: top;\n",
       "    }\n",
       "\n",
       "    .dataframe thead th {\n",
       "        text-align: right;\n",
       "    }\n",
       "</style>\n",
       "<table border=\"1\" class=\"dataframe\">\n",
       "  <thead>\n",
       "    <tr style=\"text-align: right;\">\n",
       "      <th></th>\n",
       "      <th>crash_id</th>\n",
       "      <th>crash_date</th>\n",
       "      <th>crash_time</th>\n",
       "      <th>severity</th>\n",
       "      <th>crash_type</th>\n",
       "      <th>cyclists</th>\n",
       "      <th>cyclist_casualties</th>\n",
       "      <th>reported_location</th>\n",
       "      <th>lat</th>\n",
       "      <th>lon</th>\n",
       "      <th>time_in_min</th>\n",
       "    </tr>\n",
       "  </thead>\n",
       "  <tbody>\n",
       "    <tr>\n",
       "      <th>472</th>\n",
       "      <td>1053731</td>\n",
       "      <td>2013-01-15T07:26:00.000</td>\n",
       "      <td>07:26</td>\n",
       "      <td>Injury</td>\n",
       "      <td>Overturned (On Road)</td>\n",
       "      <td>1</td>\n",
       "      <td>1</td>\n",
       "      <td>PIALLIGO AVENUE (SCHERGER -&gt; AIR DISASTER)</td>\n",
       "      <td>-35.32106</td>\n",
       "      <td>149.214718</td>\n",
       "      <td>446</td>\n",
       "    </tr>\n",
       "    <tr>\n",
       "      <th>277</th>\n",
       "      <td>1084672</td>\n",
       "      <td>2014-04-03T08:20:00.000</td>\n",
       "      <td>08:20</td>\n",
       "      <td>Property Damage Only</td>\n",
       "      <td>Rear end collision</td>\n",
       "      <td>1</td>\n",
       "      <td>0</td>\n",
       "      <td>COPLAND DRIVE (GINNINDERRA / JOHN CLELAND -&gt; C...</td>\n",
       "      <td>-35.219133</td>\n",
       "      <td>149.054086</td>\n",
       "      <td>500</td>\n",
       "    </tr>\n",
       "    <tr>\n",
       "      <th>736</th>\n",
       "      <td>1097768</td>\n",
       "      <td>2014-10-21T18:05:00.000</td>\n",
       "      <td>18:05</td>\n",
       "      <td>Property Damage Only</td>\n",
       "      <td>Other - Vehicle to Vehicle</td>\n",
       "      <td>1</td>\n",
       "      <td>0</td>\n",
       "      <td>COWPER/TOMS INTERSECTION</td>\n",
       "      <td>-35.26553</td>\n",
       "      <td>149.13867</td>\n",
       "      <td>1085</td>\n",
       "    </tr>\n",
       "  </tbody>\n",
       "</table>\n",
       "</div>"
      ],
      "text/plain": [
       "    crash_id               crash_date crash_time              severity  \\\n",
       "472  1053731  2013-01-15T07:26:00.000      07:26                Injury   \n",
       "277  1084672  2014-04-03T08:20:00.000      08:20  Property Damage Only   \n",
       "736  1097768  2014-10-21T18:05:00.000      18:05  Property Damage Only   \n",
       "\n",
       "                     crash_type cyclists cyclist_casualties  \\\n",
       "472        Overturned (On Road)        1                  1   \n",
       "277          Rear end collision        1                  0   \n",
       "736  Other - Vehicle to Vehicle        1                  0   \n",
       "\n",
       "                                     reported_location         lat  \\\n",
       "472         PIALLIGO AVENUE (SCHERGER -> AIR DISASTER)   -35.32106   \n",
       "277  COPLAND DRIVE (GINNINDERRA / JOHN CLELAND -> C...  -35.219133   \n",
       "736                           COWPER/TOMS INTERSECTION   -35.26553   \n",
       "\n",
       "            lon  time_in_min  \n",
       "472  149.214718          446  \n",
       "277  149.054086          500  \n",
       "736   149.13867         1085  "
      ]
     },
     "execution_count": 6,
     "metadata": {},
     "output_type": "execute_result"
    }
   ],
   "source": [
    "act_cc = pd.DataFrame(act_cc_js).drop(columns=['location_1', ':@computed_region_h8vr_r9vc'])\n",
    "act_cc = act_cc.rename(columns={'latitude':'lat', 'longitude':'lon'})\n",
    "act_cc['time_in_min'] = act_cc['crash_time'].apply(timeconv) # the CAS2029 app needs to see time in minutes\n",
    "act_cc.sample(3)"
   ]
  },
  {
   "cell_type": "markdown",
   "metadata": {},
   "source": [
    "## QLD Historical Crash Data"
   ]
  },
  {
   "cell_type": "markdown",
   "metadata": {},
   "source": [
    "Since the QLD API for historical crash data has query size limitations, we need to assemble it piece-wise by year.\n",
    "\n",
    "In the variables below, we can see that we have some similar fields to ACT data:\n",
    "\n",
    "* `Crash_Hour` identifies the time\n",
    "* `Crash_Longitude_GDA94` and `Crash_Latitude_GDA94` pinpoint the location\n",
    "* `Count_Unit_Bicycle` shows whether a cyclist was involved"
   ]
  },
  {
   "cell_type": "code",
   "execution_count": 7,
   "metadata": {
    "scrolled": false
   },
   "outputs": [
    {
     "name": "stderr",
     "output_type": "stream",
     "text": [
      "C:\\Users\\rober\\Anaconda3\\lib\\site-packages\\IPython\\core\\interactiveshell.py:3058: DtypeWarning: Columns (15) have mixed types. Specify dtype option on import or set low_memory=False.\n",
      "  interactivity=interactivity, compiler=compiler, result=result)\n"
     ]
    },
    {
     "name": "stdout",
     "output_type": "stream",
     "text": [
      "<class 'pandas.core.frame.DataFrame'>\n",
      "RangeIndex: 328247 entries, 0 to 328246\n",
      "Data columns (total 52 columns):\n",
      "Crash_Ref_Number                   328247 non-null int64\n",
      "Crash_Severity                     328247 non-null object\n",
      "Crash_Year                         328247 non-null int64\n",
      "Crash_Month                        328247 non-null object\n",
      "Crash_Day_Of_Week                  328247 non-null object\n",
      "Crash_Hour                         328247 non-null int64\n",
      "Crash_Nature                       328247 non-null object\n",
      "Crash_Type                         328247 non-null object\n",
      "Crash_Longitude_GDA94              328247 non-null float64\n",
      "Crash_Latitude_GDA94               328247 non-null float64\n",
      "Crash_Street                       328238 non-null object\n",
      "Crash_Street_Intersecting          141695 non-null object\n",
      "State_Road_Name                    151727 non-null object\n",
      "Loc_Suburb                         328247 non-null object\n",
      "Loc_Local_Government_Area          328247 non-null object\n",
      "Loc_Post_Code                      328247 non-null object\n",
      "Loc_Police_Division                328247 non-null object\n",
      "Loc_Police_District                328247 non-null object\n",
      "Loc_Police_Region                  328247 non-null object\n",
      "Loc_Queensland_Transport_Region    328247 non-null object\n",
      "Loc_Main_Roads_Region              328247 non-null object\n",
      "Loc_ABS_Statistical_Area_2         328247 non-null object\n",
      "Loc_ABS_Statistical_Area_3         328247 non-null object\n",
      "Loc_ABS_Statistical_Area_4         328247 non-null object\n",
      "Loc_ABS_Remoteness                 328247 non-null object\n",
      "Loc_State_Electorate               328247 non-null object\n",
      "Loc_Federal_Electorate             328247 non-null object\n",
      "Crash_Controlling_Authority        328247 non-null object\n",
      "Crash_Roadway_Feature              328247 non-null object\n",
      "Crash_Traffic_Control              328247 non-null object\n",
      "Crash_Speed_Limit                  328244 non-null object\n",
      "Crash_Road_Surface_Condition       328247 non-null object\n",
      "Crash_Atmospheric_Condition        328247 non-null object\n",
      "Crash_Lighting_Condition           328247 non-null object\n",
      "Crash_Road_Horiz_Align             328247 non-null object\n",
      "Crash_Road_Vert_Align              328247 non-null object\n",
      "Crash_DCA_Code                     328163 non-null float64\n",
      "Crash_DCA_Description              328163 non-null object\n",
      "Crash_DCA_Group_Description        328247 non-null object\n",
      "DCA_Key_Approach_Dir               323921 non-null object\n",
      "Count_Casualty_Fatality            328247 non-null int64\n",
      "Count_Casualty_Hospitalised        328247 non-null int64\n",
      "Count_Casualty_MedicallyTreated    328247 non-null int64\n",
      "Count_Casualty_MinorInjury         328247 non-null int64\n",
      "Count_Casualty_Total               328247 non-null int64\n",
      "Count_Unit_Car                     328247 non-null int64\n",
      "Count_Unit_Motorcycle_Moped        328247 non-null int64\n",
      "Count_Unit_Truck                   328247 non-null int64\n",
      "Count_Unit_Bus                     328247 non-null int64\n",
      "Count_Unit_Bicycle                 328247 non-null int64\n",
      "Count_Unit_Pedestrian              328247 non-null int64\n",
      "Count_Unit_Other                   328247 non-null int64\n",
      "dtypes: float64(3), int64(15), object(34)\n",
      "memory usage: 130.2+ MB\n"
     ]
    }
   ],
   "source": [
    "limit = 32000\n",
    "df_list = []\n",
    "\n",
    "for year in range(2000,2019):\n",
    "\n",
    "    url = 'https://www.data.qld.gov.au/api/3/action/datastore_search?' \\\n",
    "        + 'resource_id=e88943c0-5968-4972-a15f-38e120d72ec0' \\\n",
    "        + '&limit=' + str(limit) \\\n",
    "        + '&q=' + '{\"Crash_Year\":\"'+str(year)+'\"}'\n",
    "    \n",
    "    qld_rc_js = get_data(url)\n",
    "    df_list.append(pd.DataFrame(qld_rc_js['result']['records']))\n",
    "    \n",
    "qld_rc = pd.concat(df_list, ignore_index=True)\n",
    "qld_rc.info()    "
   ]
  },
  {
   "cell_type": "markdown",
   "metadata": {},
   "source": [
    "There is a good amount of data in here relative to its ACT counterpart, so we need to be selective about the variables we feed into CAS2029. Importantly, we should distinguish pedestrian from cyclist crashes as we did for ACT data.\n",
    "\n",
    "First, let's select a subset of variables similar to the ones we obtain in the ACT:"
   ]
  },
  {
   "cell_type": "code",
   "execution_count": 8,
   "metadata": {},
   "outputs": [],
   "source": [
    "qld_vars = ['Crash_Ref_Number',\n",
    "            'Crash_Year',\n",
    "            'Crash_Month',\n",
    "            'Crash_Day_Of_Week',\n",
    "            'Crash_Hour',\n",
    "            'Crash_Severity',\n",
    "            'Crash_Type',\n",
    "            'Count_Casualty_Total',\n",
    "            'Count_Unit_Pedestrian',\n",
    "            'Count_Unit_Bicycle',\n",
    "            'Crash_Street',\n",
    "            'Crash_Latitude_GDA94',\n",
    "            'Crash_Longitude_GDA94'             \n",
    "           ]"
   ]
  },
  {
   "cell_type": "markdown",
   "metadata": {},
   "source": [
    "### Pedestrian Crashes\n",
    "\n",
    "Here, we subset crashes that involved pedestrians, and apply some of the steps we did with ACT data:"
   ]
  },
  {
   "cell_type": "code",
   "execution_count": 9,
   "metadata": {},
   "outputs": [
    {
     "data": {
      "text/html": [
       "<div>\n",
       "<style scoped>\n",
       "    .dataframe tbody tr th:only-of-type {\n",
       "        vertical-align: middle;\n",
       "    }\n",
       "\n",
       "    .dataframe tbody tr th {\n",
       "        vertical-align: top;\n",
       "    }\n",
       "\n",
       "    .dataframe thead th {\n",
       "        text-align: right;\n",
       "    }\n",
       "</style>\n",
       "<table border=\"1\" class=\"dataframe\">\n",
       "  <thead>\n",
       "    <tr style=\"text-align: right;\">\n",
       "      <th></th>\n",
       "      <th>Crash_Ref_Number</th>\n",
       "      <th>Crash_Year</th>\n",
       "      <th>Crash_Month</th>\n",
       "      <th>Crash_Day_Of_Week</th>\n",
       "      <th>Crash_Hour</th>\n",
       "      <th>Crash_Severity</th>\n",
       "      <th>Crash_Type</th>\n",
       "      <th>Count_Casualty_Total</th>\n",
       "      <th>Count_Unit_Pedestrian</th>\n",
       "      <th>Count_Unit_Bicycle</th>\n",
       "      <th>Crash_Street</th>\n",
       "      <th>lat</th>\n",
       "      <th>lon</th>\n",
       "      <th>time_in_min</th>\n",
       "    </tr>\n",
       "  </thead>\n",
       "  <tbody>\n",
       "    <tr>\n",
       "      <th>144752</th>\n",
       "      <td>144753</td>\n",
       "      <td>2009</td>\n",
       "      <td>December</td>\n",
       "      <td>Thursday</td>\n",
       "      <td>23</td>\n",
       "      <td>Hospitalisation</td>\n",
       "      <td>Hit pedestrian</td>\n",
       "      <td>1</td>\n",
       "      <td>1</td>\n",
       "      <td>0</td>\n",
       "      <td>Montague Rd</td>\n",
       "      <td>-27.471125</td>\n",
       "      <td>153.014917</td>\n",
       "      <td>1380</td>\n",
       "    </tr>\n",
       "    <tr>\n",
       "      <th>306892</th>\n",
       "      <td>306893</td>\n",
       "      <td>2005</td>\n",
       "      <td>February</td>\n",
       "      <td>Sunday</td>\n",
       "      <td>11</td>\n",
       "      <td>Hospitalisation</td>\n",
       "      <td>Hit pedestrian</td>\n",
       "      <td>1</td>\n",
       "      <td>1</td>\n",
       "      <td>0</td>\n",
       "      <td>Bundaberg - Bargara Rd</td>\n",
       "      <td>-24.845332</td>\n",
       "      <td>152.400520</td>\n",
       "      <td>660</td>\n",
       "    </tr>\n",
       "    <tr>\n",
       "      <th>97479</th>\n",
       "      <td>97480</td>\n",
       "      <td>2007</td>\n",
       "      <td>June</td>\n",
       "      <td>Wednesday</td>\n",
       "      <td>18</td>\n",
       "      <td>Medical treatment</td>\n",
       "      <td>Hit pedestrian</td>\n",
       "      <td>1</td>\n",
       "      <td>1</td>\n",
       "      <td>0</td>\n",
       "      <td>Albert St</td>\n",
       "      <td>-27.593943</td>\n",
       "      <td>152.834544</td>\n",
       "      <td>1080</td>\n",
       "    </tr>\n",
       "  </tbody>\n",
       "</table>\n",
       "</div>"
      ],
      "text/plain": [
       "        Crash_Ref_Number  Crash_Year Crash_Month Crash_Day_Of_Week  \\\n",
       "144752            144753        2009    December          Thursday   \n",
       "306892            306893        2005    February            Sunday   \n",
       "97479              97480        2007        June         Wednesday   \n",
       "\n",
       "        Crash_Hour     Crash_Severity      Crash_Type  Count_Casualty_Total  \\\n",
       "144752          23    Hospitalisation  Hit pedestrian                     1   \n",
       "306892          11    Hospitalisation  Hit pedestrian                     1   \n",
       "97479           18  Medical treatment  Hit pedestrian                     1   \n",
       "\n",
       "        Count_Unit_Pedestrian  Count_Unit_Bicycle            Crash_Street  \\\n",
       "144752                      1                   0             Montague Rd   \n",
       "306892                      1                   0  Bundaberg - Bargara Rd   \n",
       "97479                       1                   0               Albert St   \n",
       "\n",
       "              lat         lon  time_in_min  \n",
       "144752 -27.471125  153.014917         1380  \n",
       "306892 -24.845332  152.400520          660  \n",
       "97479  -27.593943  152.834544         1080  "
      ]
     },
     "execution_count": 9,
     "metadata": {},
     "output_type": "execute_result"
    }
   ],
   "source": [
    "qld_pc = qld_rc[qld_rc['Count_Unit_Pedestrian']>0][qld_vars]\n",
    "qld_pc = qld_pc.rename(columns={'Crash_Latitude_GDA94':'lat', 'Crash_Longitude_GDA94':'lon'})\n",
    "qld_pc['time_in_min'] = qld_pc['Crash_Hour']*60\n",
    "qld_pc.sample(3)"
   ]
  },
  {
   "cell_type": "markdown",
   "metadata": {},
   "source": [
    "### Cyclist Crashes\n",
    "\n",
    "Here, we subset crashes that involved cyclists, and again apply some of the steps we did with ACT data:"
   ]
  },
  {
   "cell_type": "code",
   "execution_count": 10,
   "metadata": {},
   "outputs": [
    {
     "data": {
      "text/html": [
       "<div>\n",
       "<style scoped>\n",
       "    .dataframe tbody tr th:only-of-type {\n",
       "        vertical-align: middle;\n",
       "    }\n",
       "\n",
       "    .dataframe tbody tr th {\n",
       "        vertical-align: top;\n",
       "    }\n",
       "\n",
       "    .dataframe thead th {\n",
       "        text-align: right;\n",
       "    }\n",
       "</style>\n",
       "<table border=\"1\" class=\"dataframe\">\n",
       "  <thead>\n",
       "    <tr style=\"text-align: right;\">\n",
       "      <th></th>\n",
       "      <th>Crash_Ref_Number</th>\n",
       "      <th>Crash_Year</th>\n",
       "      <th>Crash_Month</th>\n",
       "      <th>Crash_Day_Of_Week</th>\n",
       "      <th>Crash_Hour</th>\n",
       "      <th>Crash_Severity</th>\n",
       "      <th>Crash_Type</th>\n",
       "      <th>Count_Casualty_Total</th>\n",
       "      <th>Count_Unit_Pedestrian</th>\n",
       "      <th>Count_Unit_Bicycle</th>\n",
       "      <th>Crash_Street</th>\n",
       "      <th>lat</th>\n",
       "      <th>lon</th>\n",
       "      <th>time_in_min</th>\n",
       "    </tr>\n",
       "  </thead>\n",
       "  <tbody>\n",
       "    <tr>\n",
       "      <th>244134</th>\n",
       "      <td>244135</td>\n",
       "      <td>2017</td>\n",
       "      <td>August</td>\n",
       "      <td>Wednesday</td>\n",
       "      <td>10</td>\n",
       "      <td>Medical treatment</td>\n",
       "      <td>Multi-Vehicle</td>\n",
       "      <td>1</td>\n",
       "      <td>0</td>\n",
       "      <td>1</td>\n",
       "      <td>Abingdon St</td>\n",
       "      <td>-27.490853</td>\n",
       "      <td>153.027097</td>\n",
       "      <td>600</td>\n",
       "    </tr>\n",
       "    <tr>\n",
       "      <th>106675</th>\n",
       "      <td>106676</td>\n",
       "      <td>2011</td>\n",
       "      <td>June</td>\n",
       "      <td>Tuesday</td>\n",
       "      <td>5</td>\n",
       "      <td>Hospitalisation</td>\n",
       "      <td>Multi-Vehicle</td>\n",
       "      <td>1</td>\n",
       "      <td>0</td>\n",
       "      <td>1</td>\n",
       "      <td>Cornwall St</td>\n",
       "      <td>-27.501621</td>\n",
       "      <td>153.038952</td>\n",
       "      <td>300</td>\n",
       "    </tr>\n",
       "    <tr>\n",
       "      <th>189763</th>\n",
       "      <td>189764</td>\n",
       "      <td>2012</td>\n",
       "      <td>April</td>\n",
       "      <td>Sunday</td>\n",
       "      <td>10</td>\n",
       "      <td>Minor injury</td>\n",
       "      <td>Multi-Vehicle</td>\n",
       "      <td>1</td>\n",
       "      <td>0</td>\n",
       "      <td>1</td>\n",
       "      <td>Coonan St</td>\n",
       "      <td>-27.503092</td>\n",
       "      <td>152.975288</td>\n",
       "      <td>600</td>\n",
       "    </tr>\n",
       "  </tbody>\n",
       "</table>\n",
       "</div>"
      ],
      "text/plain": [
       "        Crash_Ref_Number  Crash_Year Crash_Month Crash_Day_Of_Week  \\\n",
       "244134            244135        2017      August         Wednesday   \n",
       "106675            106676        2011        June           Tuesday   \n",
       "189763            189764        2012       April            Sunday   \n",
       "\n",
       "        Crash_Hour     Crash_Severity     Crash_Type  Count_Casualty_Total  \\\n",
       "244134          10  Medical treatment  Multi-Vehicle                     1   \n",
       "106675           5    Hospitalisation  Multi-Vehicle                     1   \n",
       "189763          10       Minor injury  Multi-Vehicle                     1   \n",
       "\n",
       "        Count_Unit_Pedestrian  Count_Unit_Bicycle Crash_Street        lat  \\\n",
       "244134                      0                   1  Abingdon St -27.490853   \n",
       "106675                      0                   1  Cornwall St -27.501621   \n",
       "189763                      0                   1    Coonan St -27.503092   \n",
       "\n",
       "               lon  time_in_min  \n",
       "244134  153.027097          600  \n",
       "106675  153.038952          300  \n",
       "189763  152.975288          600  "
      ]
     },
     "execution_count": 10,
     "metadata": {},
     "output_type": "execute_result"
    }
   ],
   "source": [
    "qld_cc = qld_rc[qld_rc['Count_Unit_Bicycle']>0][qld_vars]\n",
    "qld_cc = qld_cc.rename(columns={'Crash_Latitude_GDA94':'lat', 'Crash_Longitude_GDA94':'lon'})\n",
    "qld_cc['time_in_min'] = qld_cc['Crash_Hour']*60\n",
    "qld_cc.sample(3)"
   ]
  },
  {
   "cell_type": "markdown",
   "metadata": {},
   "source": [
    "## QLD Real-time Traffic Data\n",
    "\n",
    "This real-time API can be a source of very useful features for CAS2029 users in QLD. We explain each feature below."
   ]
  },
  {
   "cell_type": "code",
   "execution_count": 11,
   "metadata": {},
   "outputs": [],
   "source": [
    "def make_url(i):\n",
    "    \"\"\"\n",
    "    Takes a value from {0,1,2} to generate the API query for webcams, high-risk crash zones and events respectively\n",
    "    \"\"\"\n",
    "    types = ['v1/webcams','v1/highriskcrashzones','v2/events']\n",
    "    return 'https://api.qldtraffic.qld.gov.au/' + types[i] \\\n",
    "            + '?apikey=3e83add325cbb69ac4d8e5bf433d770b'"
   ]
  },
  {
   "cell_type": "markdown",
   "metadata": {},
   "source": [
    "### Webcams\n",
    "\n",
    "Webcams provide live images from various roads around QLD. "
   ]
  },
  {
   "cell_type": "code",
   "execution_count": 12,
   "metadata": {},
   "outputs": [
    {
     "data": {
      "text/plain": [
       "dict_keys(['type', 'features', 'published', 'rights'])"
      ]
     },
     "execution_count": 12,
     "metadata": {},
     "output_type": "execute_result"
    }
   ],
   "source": [
    "r = get_data(make_url(0))\n",
    "r.keys()"
   ]
  },
  {
   "cell_type": "markdown",
   "metadata": {},
   "source": [
    "Below we see how many webcams we are getting feeds from:"
   ]
  },
  {
   "cell_type": "code",
   "execution_count": 13,
   "metadata": {},
   "outputs": [
    {
     "name": "stdout",
     "output_type": "stream",
     "text": [
      "We can access live images from 177 cameras!\n"
     ]
    }
   ],
   "source": [
    "print('We can access live images from '+str(len(r['features']))+' cameras!')"
   ]
  },
  {
   "cell_type": "markdown",
   "metadata": {},
   "source": [
    "Let's see what metadata the first camera gives us:"
   ]
  },
  {
   "cell_type": "code",
   "execution_count": 14,
   "metadata": {},
   "outputs": [
    {
     "data": {
      "text/plain": [
       "{'type': 'Feature',\n",
       " 'geometry': {'type': 'Point', 'coordinates': [153.0086975, -27.5551796]},\n",
       " 'properties': {'id': 1,\n",
       "  'url': 'https://api.qldtraffic.qld.gov.au/v1/webcams/1',\n",
       "  'description': 'Archerfield - Ipswich Mwy - North',\n",
       "  'direction': 'NorthEast',\n",
       "  'district': 'Metropolitan',\n",
       "  'locality': 'Archerfield',\n",
       "  'postcode': '4108',\n",
       "  'image_url': 'https://webcams.qldtraffic.qld.gov.au/Metropolitan/Archerfield_Ipswich_Mwy_sth.jpg',\n",
       "  'image_sourced_from': None,\n",
       "  'isCustom': False}}"
      ]
     },
     "execution_count": 14,
     "metadata": {},
     "output_type": "execute_result"
    }
   ],
   "source": [
    "r['features'][0]"
   ]
  },
  {
   "cell_type": "markdown",
   "metadata": {},
   "source": [
    "We can now navigate to the `image_url` and extract the image:"
   ]
  },
  {
   "cell_type": "code",
   "execution_count": 15,
   "metadata": {},
   "outputs": [
    {
     "data": {
      "image/png": "[encoded data removed]",
      "text/plain": [
       "<PIL.JpegImagePlugin.JpegImageFile image mode=RGB size=320x256 at 0x1CC303ADC18>"
      ]
     },
     "execution_count": 15,
     "metadata": {},
     "output_type": "execute_result"
    }
   ],
   "source": [
    "from PIL import Image\n",
    "from io import BytesIO\n",
    "img_url = r['features'][0]['properties']['image_url']\n",
    "r_img = requests.get(img_url)\n",
    "img = Image.open(BytesIO(r_img.content))\n",
    "img"
   ]
  },
  {
   "cell_type": "markdown",
   "metadata": {},
   "source": [
    "### High-risk Crash Zones\n",
    "\n",
    "We can also extract the most up-to-date high-risk crash zones:"
   ]
  },
  {
   "cell_type": "code",
   "execution_count": 16,
   "metadata": {},
   "outputs": [
    {
     "data": {
      "text/plain": [
       "dict_keys(['name', 'type', 'crs', 'features', 'published', 'rights'])"
      ]
     },
     "execution_count": 16,
     "metadata": {},
     "output_type": "execute_result"
    }
   ],
   "source": [
    "r = get_data(make_url(1))\n",
    "r.keys()"
   ]
  },
  {
   "cell_type": "code",
   "execution_count": 17,
   "metadata": {},
   "outputs": [
    {
     "name": "stdout",
     "output_type": "stream",
     "text": [
      "We are looking at the Top 26 high-risk crash zones\n"
     ]
    }
   ],
   "source": [
    "print('We are looking at the '+ r['name'].replace('_',' ')+ ' high-risk crash zones')"
   ]
  },
  {
   "cell_type": "markdown",
   "metadata": {},
   "source": [
    "Let's take a look at the first zone:\n",
    "* We can extract its coordinates from `geometry`\n",
    "* We can get extra information from `properties`"
   ]
  },
  {
   "cell_type": "code",
   "execution_count": 18,
   "metadata": {},
   "outputs": [
    {
     "data": {
      "text/plain": [
       "dict_keys(['type', 'geometry', 'properties'])"
      ]
     },
     "execution_count": 18,
     "metadata": {},
     "output_type": "execute_result"
    }
   ],
   "source": [
    "r['features'][0].keys()"
   ]
  },
  {
   "cell_type": "code",
   "execution_count": 19,
   "metadata": {},
   "outputs": [
    {
     "data": {
      "text/plain": [
       "[[153.304967, -27.650293996],\n",
       " [153.305184, -27.649339996],\n",
       " [153.305243, -27.649060996],\n",
       " [153.305269, -27.648925],\n",
       " [153.30529, -27.648796]]"
      ]
     },
     "execution_count": 19,
     "metadata": {},
     "output_type": "execute_result"
    }
   ],
   "source": [
    "zone_coords = r['features'][0]['geometry']['coordinates'][0]\n",
    "zone_coords[:5]"
   ]
  },
  {
   "cell_type": "code",
   "execution_count": 20,
   "metadata": {},
   "outputs": [
    {
     "data": {
      "text/plain": [
       "{'road_section_id': '109',\n",
       " 'road_name': 'Cleveland Redland Bay Road',\n",
       " 'description': 'This road has experienced a higher crash occurrence in the past compared to other roads. Road Users are advised to take care and to drive to prevailing conditions',\n",
       " 'Suburb': 'Cleveland / Redland Bay / Thornlands / Victoria Point',\n",
       " 'District': 'Metropolitan'}"
      ]
     },
     "execution_count": 20,
     "metadata": {},
     "output_type": "execute_result"
    }
   ],
   "source": [
    "r['features'][0]['properties']"
   ]
  },
  {
   "cell_type": "markdown",
   "metadata": {},
   "source": [
    "Furthermore, we could plot out the zone and overlay it on a map of QLD using latitude and longitude coordinates. Below is just an outline of the zone:"
   ]
  },
  {
   "cell_type": "code",
   "execution_count": 21,
   "metadata": {},
   "outputs": [
    {
     "data": {
      "image/png": "[encoded data removed]",
      "text/plain": [
       "<Figure size 432x288 with 1 Axes>"
      ]
     },
     "metadata": {
      "needs_background": "light"
     },
     "output_type": "display_data"
    }
   ],
   "source": [
    "df = gpd.GeoDataFrame(columns=['geometry'])\n",
    "df = df.append({'geometry': (Polygon(zone_coords))}, ignore_index=True)\n",
    "df.plot()\n",
    "plt.show()"
   ]
  },
  {
   "cell_type": "markdown",
   "metadata": {},
   "source": [
    "### Events\n",
    "\n",
    "Obtaining information on events is similar to High-risk crash zones:"
   ]
  },
  {
   "cell_type": "code",
   "execution_count": 22,
   "metadata": {},
   "outputs": [
    {
     "data": {
      "text/plain": [
       "dict_keys(['type', 'features', 'published', 'rights'])"
      ]
     },
     "execution_count": 22,
     "metadata": {},
     "output_type": "execute_result"
    }
   ],
   "source": [
    "r = get_data(make_url(2))\n",
    "r.keys()"
   ]
  },
  {
   "cell_type": "code",
   "execution_count": 23,
   "metadata": {},
   "outputs": [
    {
     "name": "stdout",
     "output_type": "stream",
     "text": [
      "There are 284 events!\n"
     ]
    }
   ],
   "source": [
    "print('There are '+str(len(r['features']))+' events!')"
   ]
  },
  {
   "cell_type": "markdown",
   "metadata": {},
   "source": [
    "Taking a look at the first event, we can perform the same basic analysis as above:"
   ]
  },
  {
   "cell_type": "code",
   "execution_count": 24,
   "metadata": {},
   "outputs": [
    {
     "data": {
      "text/plain": [
       "[[148.9395348, -21.3292286],\n",
       " [148.93963, -21.33001],\n",
       " [148.93969, -21.3303],\n",
       " [148.94012, -21.33247],\n",
       " [148.94039, -21.33365]]"
      ]
     },
     "execution_count": 24,
     "metadata": {},
     "output_type": "execute_result"
    }
   ],
   "source": [
    "zone_coords = r['features'][0]['geometry']['coordinates'][0]\n",
    "zone_coords[:5]"
   ]
  },
  {
   "cell_type": "code",
   "execution_count": 25,
   "metadata": {},
   "outputs": [
    {
     "data": {
      "text/plain": [
       "{'id': 2301,\n",
       " 'area_alert': False,\n",
       " 'status': 'Published',\n",
       " 'published': '2016-08-25T14:24:00+10:00',\n",
       " 'source': {'source_name': 'EPS',\n",
       "  'source_id': None,\n",
       "  'account': None,\n",
       "  'provided_by': 'Department of Transport and Main Roads',\n",
       "  'provided_by_url': 'https://qldtraffic.qld.gov.au'},\n",
       " 'url': 'https://api.qldtraffic.qld.gov.au/v2/events/2301',\n",
       " 'event_type': 'Roadworks',\n",
       " 'event_subtype': 'Planned roadworks',\n",
       " 'event_due_to': None,\n",
       " 'impact': {'direction': 'Both directions',\n",
       "  'towards': None,\n",
       "  'impact_type': 'No blockage',\n",
       "  'impact_subtype': None,\n",
       "  'delay': 'Delays expected (during active hours)'},\n",
       " 'duration': {'start': '2016-04-04T08:00:00+10:00',\n",
       "  'end': '2019-11-30T18:00:00+10:00',\n",
       "  'active_days': None,\n",
       "  'recurrences': None},\n",
       " 'event_priority': 'Medium',\n",
       " 'description': 'Construction - Eton Range Realignment Project',\n",
       " 'advice': 'Allow extra travel time',\n",
       " 'information': 'Operators of vehicles over 7.9m wide need to call the project site at least 5 days prior to travelling through the site. Please check the TMR Conditions of Operation Database for more information on restrictions and contact details. ',\n",
       " 'road_summary': {'road_name': 'Peak Downs Highway',\n",
       "  'locality': 'Eton',\n",
       "  'postcode': '4741',\n",
       "  'local_government_area': 'Mackay Regional',\n",
       "  'district': 'Mackay/Whitsunday'},\n",
       " 'last_updated': '2019-07-16T14:37:56.810924+10:00',\n",
       " 'next_inspection': None,\n",
       " 'web_link': 'http://www.tmr.qld.gov.au/Projects/Name/E/Eton-Range-Peak-Downs-Highway',\n",
       " 'alert_message': None}"
      ]
     },
     "execution_count": 25,
     "metadata": {},
     "output_type": "execute_result"
    }
   ],
   "source": [
    "r['features'][0]['properties']"
   ]
  },
  {
   "cell_type": "code",
   "execution_count": 26,
   "metadata": {},
   "outputs": [
    {
     "data": {
      "image/png": "[encoded data removed]",
      "text/plain": [
       "<Figure size 432x288 with 1 Axes>"
      ]
     },
     "metadata": {
      "needs_background": "light"
     },
     "output_type": "display_data"
    }
   ],
   "source": [
    "df = gpd.GeoDataFrame(columns=['geometry'])\n",
    "df = df.append({'geometry': (Polygon(zone_coords))}, ignore_index=True)\n",
    "df.plot()\n",
    "plt.show()"
   ]
  }
 ],
 "metadata": {
  "kernelspec": {
   "display_name": "Python 3",
   "language": "python",
   "name": "python3"
  },
  "language_info": {
   "codemirror_mode": {
    "name": "ipython",
    "version": 3
   },
   "file_extension": ".py",
   "mimetype": "text/x-python",
   "name": "python",
   "nbconvert_exporter": "python",
   "pygments_lexer": "ipython3",
   "version": "3.6.9"
  }
 },
 "nbformat": 4,
 "nbformat_minor": 2
}
